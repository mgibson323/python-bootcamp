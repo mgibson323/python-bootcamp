{
 "cells": [
  {
   "cell_type": "markdown",
   "metadata": {
    "cell_id": "00000-d0ecae8e-f087-4bf1-99b9-724d4212505e",
    "deepnote_cell_type": "markdown"
   },
   "source": [
    "# Intro to Python for Data Science\n",
    "\n",
    "\n",
    "\n",
    "---\n",
    "<img src=\"https://calnerds.berkeley.edu/css/images/logo.jpg\"  /> <!--style=\"width: 500px; height: 275px;\"-->\n",
    "\n",
    "\n",
    "\n",
    "## Day 2\n",
    "\n",
    "\n",
    "### Table of Contents\n",
    "\n",
    "\n",
    "1 - [Functions](#section1)<br>\n",
    "&nbsp;&nbsp;&nbsp;&nbsp;&nbsp;&nbsp; 1.1 - [Built-in Functions](#subsection1.1)<br>\n",
    "&nbsp;&nbsp;&nbsp;&nbsp;&nbsp;&nbsp; 1.2 - [Defining Functions](#subsection1.2)<br>\n",
    "&nbsp;&nbsp;&nbsp;&nbsp;&nbsp;&nbsp; 1.3 - [Importing Libraries](#subsection1.3)<br>\n",
    "2 - [Intro to Numpy](#section2)<br>\n",
    "&nbsp;&nbsp;&nbsp;&nbsp;&nbsp;&nbsp; 2.1 - [Creating Fast Arrays in Numpy](#subsection2.1)<br>\n",
    "&nbsp;&nbsp;&nbsp;&nbsp;&nbsp;&nbsp; 2.2 - [Array Operations](#subsection2.2)<br>\n",
    "&nbsp;&nbsp;&nbsp;&nbsp;&nbsp;&nbsp; 2.3 - [Indexing Inside Arrays](#subsection2.3)<br>\n",
    "3 - [Intro to PandasData Frames](#section3)<br>\n",
    "&nbsp;&nbsp;&nbsp;&nbsp;&nbsp;&nbsp; 3.1 - [Importing Data & Summary Statistics](#subsection3.1)<br>\n",
    "&nbsp;&nbsp;&nbsp;&nbsp;&nbsp;&nbsp; 3.2 - [Indexing &  Slicing ](#subsection3.2)<br>\n",
    "&nbsp;&nbsp;&nbsp;&nbsp;&nbsp;&nbsp; 3.3 - [Manipulating Columns](#subsection3.3)<br>\n",
    "&nbsp;&nbsp;&nbsp;&nbsp;&nbsp;&nbsp; 3.4 - [Boolean Indexing](#subsection3.4)<br>\n",
    "4 - [Plotting](#section4)<br>\n",
    "\n"
   ]
  },
  {
   "cell_type": "markdown",
   "metadata": {
    "cell_id": "00132-06ac9a58-afb0-46cc-aaf2-f791de57350a",
    "deepnote_cell_type": "markdown"
   },
   "source": [
    "---\n",
    "# 1. Functions<a id='section1'></a>"
   ]
  },
  {
   "cell_type": "markdown",
   "metadata": {
    "cell_id": "00133-07ae4b39-741f-411c-beda-42bf716cb634",
    "deepnote_cell_type": "markdown"
   },
   "source": [
    "### 1.1 Built-in Functions<a id='subsection1.1'></a>"
   ]
  },
  {
   "cell_type": "markdown",
   "metadata": {
    "cell_id": "00134-e46d7320-9418-4b73-a6b4-f3e0c7a55577",
    "deepnote_cell_type": "markdown"
   },
   "source": [
    "Python has some built-in (aka available by default) functions and methods. Let's go over a few of these.\n"
   ]
  },
  {
   "cell_type": "markdown",
   "metadata": {
    "cell_id": "00135-75f719ad-3167-4856-9248-5c57ec28635e",
    "deepnote_cell_type": "markdown"
   },
   "source": [
    "If something is a built-in function, it will appear in green in your coding environment. "
   ]
  },
  {
   "cell_type": "code",
   "execution_count": null,
   "metadata": {
    "cell_id": "00136-407f7bf9-9768-41df-bbc7-8fce0f45a06c",
    "deepnote_cell_type": "code"
   },
   "outputs": [],
   "source": [
    "# EXAMPLE \n",
    "\n",
    "max(2, 5, 9, 7)"
   ]
  },
  {
   "cell_type": "code",
   "execution_count": null,
   "metadata": {
    "cell_id": "00137-c493ea62-b521-4ea6-849d-2d396d1e6d1c",
    "deepnote_cell_type": "code"
   },
   "outputs": [],
   "source": [
    "# EXAMPLE \n",
    "\n",
    "min(3, 7)"
   ]
  },
  {
   "cell_type": "markdown",
   "metadata": {
    "cell_id": "00138-ab17165f-82c7-48d5-a1de-4f24e469a85a",
    "deepnote_cell_type": "markdown"
   },
   "source": [
    "How will this function work with textual information (aka strings)?\n",
    "Pause for a moment to answer this question before you run this cell."
   ]
  },
  {
   "cell_type": "code",
   "execution_count": null,
   "metadata": {
    "cell_id": "00139-5d166e6d-b085-41d5-a85f-a63840100b49",
    "deepnote_cell_type": "code"
   },
   "outputs": [],
   "source": [
    "# EXAMPLE \n",
    "\n",
    "max(\"dog\", \"Dog\")"
   ]
  },
  {
   "cell_type": "markdown",
   "metadata": {
    "cell_id": "00140-a9d0cc7f-2ed4-4e42-b709-43ae3259547e",
    "deepnote_cell_type": "markdown"
   },
   "source": [
    "Another built-in function you will most likely use in your coding a lot, is  **len(   )**. It is used to learn about the length of different objects. "
   ]
  },
  {
   "cell_type": "code",
   "execution_count": null,
   "metadata": {
    "cell_id": "00141-6050733a-9963-4a2f-8eeb-fb8269fe711f",
    "deepnote_cell_type": "code"
   },
   "outputs": [],
   "source": [
    "# EXAMPLE\n",
    "\n",
    "len(\"dog\")"
   ]
  },
  {
   "cell_type": "code",
   "execution_count": null,
   "metadata": {
    "cell_id": "00142-c11f724c-278c-4225-82a5-7fcc9c576b54",
    "deepnote_cell_type": "code"
   },
   "outputs": [],
   "source": [
    "# EXERCISE\n",
    "\n",
    "# what do you think this cell will output?\n",
    "\n",
    "\n",
    "len(\"dog \")"
   ]
  },
  {
   "cell_type": "markdown",
   "metadata": {
    "cell_id": "00143-090c2f34-ae5b-4e20-b409-56f9f87b91c3",
    "deepnote_cell_type": "markdown"
   },
   "source": [
    "When used with lists, it counts only the \"outter\" objects. Meaning, if there are lists or arrays inside of your list, no matter however many objects each of them has, the len(  ) will count the whole list (array, tuple, dictionary) as a single object."
   ]
  },
  {
   "cell_type": "code",
   "execution_count": null,
   "metadata": {
    "cell_id": "00144-f08457d8-99f9-4cd0-98d5-ea05b27546de",
    "deepnote_cell_type": "code"
   },
   "outputs": [],
   "source": [
    "# EXAMPLE\n",
    "\n",
    "\n",
    "len([1,3,4])"
   ]
  },
  {
   "cell_type": "code",
   "execution_count": null,
   "metadata": {
    "cell_id": "00145-5a2921ca-ce2b-4610-81c6-b8d3e3b72e66",
    "deepnote_cell_type": "code"
   },
   "outputs": [],
   "source": [
    "random = [[1,2,3,4],[4,5,6]]\n",
    "\n",
    "# Before running this cell, can you guess the output \n",
    "# it will give you?\n",
    "\n",
    "len(random)"
   ]
  },
  {
   "cell_type": "markdown",
   "metadata": {
    "cell_id": "00146-7d7e9e9f-3e46-4146-a118-b257c4652767",
    "deepnote_cell_type": "markdown"
   },
   "source": [
    "In the example below, we will use a built-in method. There's no big difference between the two except for the syntax.\n",
    "\n",
    "Functions (not only the built-in ones) are usually used in the form of   \n",
    "\n",
    "**function(argument 1, argument n)**\n",
    "\n",
    "Unlike functions, methods are usually added at the end of the variable.\n",
    "\n",
    "**variable.method()**"
   ]
  },
  {
   "cell_type": "code",
   "execution_count": null,
   "metadata": {
    "cell_id": "00147-dc673d33-f6e6-4986-819f-e9b99e457d8c",
    "deepnote_cell_type": "code"
   },
   "outputs": [],
   "source": [
    "# EXAMPLE \n",
    "\n",
    "hello = \"Hello World\"\n",
    "\n",
    "print(hello.upper())\n",
    "print(hello)"
   ]
  },
  {
   "cell_type": "markdown",
   "metadata": {
    "cell_id": "00148-f93ecb05-479b-41c1-9805-dbb0170d9409",
    "deepnote_cell_type": "markdown"
   },
   "source": [
    "Have you noticed that the variable **hello** didn't change? Can you think why is that? "
   ]
  },
  {
   "cell_type": "code",
   "execution_count": null,
   "metadata": {
    "cell_id": "00149-87781e27-32c0-41e0-a854-b98fb21d3174",
    "deepnote_cell_type": "code"
   },
   "outputs": [],
   "source": [
    "# EXAMPLE \n",
    "\n",
    "\n",
    "hello = hello.lower()\n",
    "hello"
   ]
  },
  {
   "cell_type": "markdown",
   "metadata": {
    "cell_id": "00150-e1710cf8-5a8b-482b-afaf-69f5aec30a4f",
    "deepnote_cell_type": "markdown"
   },
   "source": [
    "In the cell below, create a variable **phrase** which tells us what school you go to. Then change all the letters to upper-cased letters."
   ]
  },
  {
   "cell_type": "code",
   "execution_count": null,
   "metadata": {
    "cell_id": "00151-b92b8776-27b4-473b-9cb4-52090a2cf29b",
    "deepnote_cell_type": "code"
   },
   "outputs": [],
   "source": [
    "# EXERCISE \n",
    "\n",
    "\n",
    "phrase = \"I go to ...\"\n",
    "...\n",
    "\n",
    "print(phrase)"
   ]
  },
  {
   "cell_type": "markdown",
   "metadata": {
    "cell_id": "00152-02f707e4-2712-4a2c-b94a-3fa07e83dcef",
    "deepnote_cell_type": "markdown"
   },
   "source": [
    "### 1.2 Defining Functions <a id='subsection1.2'></a>"
   ]
  },
  {
   "cell_type": "markdown",
   "metadata": {
    "cell_id": "00153-91271847-6e69-4f03-8e9a-774b41d55950",
    "deepnote_cell_type": "markdown"
   },
   "source": [
    "A function is a block code that you can reuse to perform a specific action. In the next cell, we will be defining a simple one-line function that takes one argument."
   ]
  },
  {
   "cell_type": "code",
   "execution_count": null,
   "metadata": {
    "cell_id": "00154-61341c63-aa5b-4eef-ab66-59c9a4036d36",
    "deepnote_cell_type": "code"
   },
   "outputs": [],
   "source": [
    "# EXAMPLE\n",
    "\n",
    "def square(x):\n",
    "    return x**2\n",
    "\n",
    "\n",
    "a = square(3)\n",
    "a"
   ]
  },
  {
   "cell_type": "markdown",
   "metadata": {
    "cell_id": "00155-2198987d-675c-47bd-bb1e-6c4feb547da0",
    "deepnote_cell_type": "markdown"
   },
   "source": [
    "Your functions can perform multiple calculations and use more than one argument. You can also incorporate for-loops, conditionals, and other functions inside of your function.\n",
    "\n",
    "\n",
    "**Note:** we won't be going over the nested functions (functions with other functions inside, but feel free to search for them)."
   ]
  },
  {
   "cell_type": "markdown",
   "metadata": {
    "cell_id": "00156-6f70f098-c52f-4dcb-969e-73c218fc9687",
    "deepnote_cell_type": "markdown"
   },
   "source": [
    "In the cell below, we are going to define a function that will multiply the two numbers you give it only if they are not equal to each other."
   ]
  },
  {
   "cell_type": "code",
   "execution_count": null,
   "metadata": {
    "cell_id": "00157-747f5387-3a56-49c2-b016-6c36734535a7",
    "deepnote_cell_type": "code"
   },
   "outputs": [],
   "source": [
    "# EXAMPLE\n",
    "\n",
    "def mult_not_eq(x, y):\n",
    "    # if the first number is not equal to the second\n",
    "    print(x, y)\n",
    "    if x!=y:\n",
    "    # I will multiply them\n",
    "        return x*y\n",
    "    else:\n",
    "        print(\"Use the square function instead\")\n",
    "        \n",
    "        \n",
    "mult_not_eq(2, 2)"
   ]
  },
  {
   "cell_type": "markdown",
   "metadata": {
    "cell_id": "00158-b3af973b-72d7-45d9-9f98-f3c2451f3e72",
    "deepnote_cell_type": "markdown"
   },
   "source": [
    "Now it's time for you to define a function. Create a function that will add up two numbers, but only if they are not equals."
   ]
  },
  {
   "cell_type": "code",
   "execution_count": null,
   "metadata": {
    "cell_id": "00159-83afb3ba-56ce-4af5-bb88-c75a8bebcddc",
    "deepnote_cell_type": "code"
   },
   "outputs": [],
   "source": [
    "# EXERCISE\n",
    "\n",
    "def sum_not_equals(..., ...):\n",
    "    if ...:\n",
    "        return ...\n",
    "    else:\n",
    "        ...\n",
    "    \n",
    "    \n",
    "sum_not_equals(1, 5)"
   ]
  },
  {
   "cell_type": "markdown",
   "metadata": {
    "cell_id": "00160-d5913317-b9c3-4ed8-a6c0-d9cdc2c7b611",
    "deepnote_cell_type": "markdown"
   },
   "source": [
    "---\n",
    "### 1.3 Importing Libraries <a id='subsection1.3'></a>\n",
    "\n"
   ]
  },
  {
   "cell_type": "markdown",
   "metadata": {
    "cell_id": "00161-d26b8771-df5c-4d79-bf84-02a33a33b838",
    "deepnote_cell_type": "markdown"
   },
   "source": [
    "Python is a relatively compact programming language by itself. But while you can build all your functions from scratch, that is unnecessary in most cases. Python programs have access to a lot of already built **\"libraries\"** - collections of pre-coded functions. To use them, you normally need to install them on your computer (not needed for most common libraries if you use Anaconda) and then import them into your Jupyter Notebook. "
   ]
  },
  {
   "cell_type": "code",
   "execution_count": null,
   "metadata": {
    "cell_id": "00162-25990f1f-046a-4855-b0fa-f61ccf868f31",
    "deepnote_cell_type": "code"
   },
   "outputs": [],
   "source": [
    "# EXAMPLE\n",
    "\n",
    "import numpy as np"
   ]
  },
  {
   "cell_type": "markdown",
   "metadata": {
    "cell_id": "00163-cf4f2235-59af-4694-b6b9-f10e3d244181",
    "deepnote_cell_type": "markdown"
   },
   "source": [
    "Now that we imported **numpy** library, we can use it's functions."
   ]
  },
  {
   "cell_type": "code",
   "execution_count": null,
   "metadata": {
    "cell_id": "00164-e00d04ed-43df-4979-9074-7fff440aa624",
    "deepnote_cell_type": "code"
   },
   "outputs": [],
   "source": [
    "# EXAMPLE\n",
    "\n",
    "rand_nums = [1,5,8,9,15]\n",
    "\n",
    "np.mean(rand_nums)"
   ]
  },
  {
   "cell_type": "markdown",
   "metadata": {
    "cell_id": "00165-28fdae42-412c-45b9-8530-231a95c8b32d",
    "deepnote_cell_type": "markdown"
   },
   "source": [
    "Another useful library to have is **math**. It has things like cos, sin, e, and pi pre-built so that you can use them in your calculations."
   ]
  },
  {
   "cell_type": "code",
   "execution_count": null,
   "metadata": {
    "cell_id": "00166-679c6383-abd7-4c35-8b4c-455a48254f2a",
    "deepnote_cell_type": "code"
   },
   "outputs": [],
   "source": [
    "# EXAMPLE\n",
    "\n",
    "import math\n",
    "\n",
    "radius = 3\n",
    "area_circle = math.pi * radius**2\n",
    "\n",
    "area_circle"
   ]
  },
  {
   "cell_type": "markdown",
   "metadata": {
    "cell_id": "00167-ef1b4761-0895-4cf3-bd19-80bdda924c7e",
    "deepnote_cell_type": "markdown"
   },
   "source": [
    "\n"
   ]
  },
  {
   "cell_type": "markdown",
   "metadata": {
    "cell_id": "00168-89c91e0b-93d1-4086-b7f1-eb91e09c87aa",
    "deepnote_cell_type": "markdown"
   },
   "source": [
    "# 2. Numpy (Optional)<a id='section2'></a>\n",
    "Numpy is an essential library both for Data Science and for many other applications. It's primary purpose is to give you access to fast arrays/matrices of data for numerical computations. But it also contains a number of very useful functions you may want to use even if you don't need to use fast arrays. In other words, if there is one library you are most likely to need to write your code, it's probably going to be numpy. "
   ]
  },
  {
   "cell_type": "code",
   "execution_count": null,
   "metadata": {
    "cell_id": "00169-a7b5a452-917e-49dc-b221-338eb7a47fc8",
    "deepnote_cell_type": "code",
    "deepnote_to_be_reexecuted": false,
    "execution_start": 1634975776983,
    "source_hash": "5830f1fd",
    "tags": []
   },
   "outputs": [],
   "source": [
    "# It is customary to import numpy under the name \"np\"\n",
    "import numpy as np"
   ]
  },
  {
   "cell_type": "markdown",
   "metadata": {
    "cell_id": "00169-d783da9e-9511-40ba-aee3-84d45e217462",
    "deepnote_cell_type": "markdown"
   },
   "source": [
    "### 2.1 Creating Fast Arrays in Numpy <a id='subsection2.1'></a>\n",
    "\n",
    "The main reason to use numpy is its blazingly fast array data structure the numpy array. Once you import numpy into your code you will be able to create arrays of data from other data structures like lists or generate completely new arrays of data according to your requirements. The easiest way to create a numpy array is to give numpy a list of values you want it to put in that array. "
   ]
  },
  {
   "cell_type": "code",
   "execution_count": null,
   "metadata": {
    "cell_id": "00171-bd58ec81-a145-4ccf-97c9-ec33ea425b13",
    "deepnote_cell_type": "code",
    "deepnote_to_be_reexecuted": false,
    "execution_millis": 1,
    "execution_start": 1634976504560,
    "source_hash": "851588a",
    "tags": []
   },
   "outputs": [],
   "source": [
    "list_of_integers = [1,2,3,5,6,9,117,377,1456783]"
   ]
  },
  {
   "cell_type": "code",
   "execution_count": null,
   "metadata": {
    "cell_id": "00170-ec01ae33-0a5c-4b38-b3f0-a11d4eac04b9",
    "deepnote_cell_type": "code",
    "deepnote_to_be_reexecuted": false,
    "execution_millis": 8,
    "execution_start": 1634976505330,
    "source_hash": "5017f707",
    "tags": []
   },
   "outputs": [],
   "source": [
    "new_array = np.array(list_of_integers)\n",
    "new_array"
   ]
  },
  {
   "cell_type": "markdown",
   "metadata": {
    "cell_id": "00173-ff9c87b0-7f55-4785-9566-9a71274b27ae",
    "deepnote_cell_type": "markdown",
    "tags": []
   },
   "source": [
    "Alternatively, you can ask numpy to create a blank array or an array with dummy values (zeroes or ones) and then fill it up with data as needed."
   ]
  },
  {
   "cell_type": "code",
   "execution_count": null,
   "metadata": {
    "cell_id": "00174-90b8be8e-e076-414f-ab86-f8ddbf724c27",
    "deepnote_cell_type": "code",
    "deepnote_to_be_reexecuted": false,
    "execution_millis": 13,
    "execution_start": 1634976275760,
    "source_hash": "69afe419",
    "tags": []
   },
   "outputs": [],
   "source": [
    "array_of_ones = np.ones(9)\n",
    "array_of_ones"
   ]
  },
  {
   "cell_type": "code",
   "execution_count": null,
   "metadata": {
    "cell_id": "00175-b0d8ccb3-c436-4c49-a707-188d4d808a30",
    "deepnote_cell_type": "code",
    "deepnote_to_be_reexecuted": false,
    "execution_millis": 8,
    "execution_start": 1634976323231,
    "source_hash": "9862b075",
    "tags": []
   },
   "outputs": [],
   "source": [
    "array_of_zeros = np.zeros(15)\n",
    "array_of_zeros"
   ]
  },
  {
   "cell_type": "code",
   "execution_count": null,
   "metadata": {
    "cell_id": "00176-f20f226d-e793-4c78-92f8-6e50c02f8bab",
    "deepnote_cell_type": "code",
    "deepnote_to_be_reexecuted": false,
    "execution_millis": 11,
    "execution_start": 1634976444607,
    "source_hash": "9f03578",
    "tags": []
   },
   "outputs": [],
   "source": [
    "# If you want an array of another  number you can create an array of ones \n",
    "# and then multiply that entire array with the number you want\n",
    "array_of_threes = np.ones(10) * 3\n",
    "array_of_threes"
   ]
  },
  {
   "cell_type": "markdown",
   "metadata": {
    "cell_id": "00177-6e96964b-050b-4a60-894a-3b1e438148e5",
    "deepnote_cell_type": "markdown",
    "tags": []
   },
   "source": [
    "Operations with numpy arrays can be anywhere from dozens to thousands of times faster than with equivalent lists. One of the reasons why numpy is so fast is that it only allows data of one type per array. Numpy is pretty clever in automatically determining what type of data you want to store in your arrays. When creating arrays it will convert all your data into the most general type that your entire dataset could be."
   ]
  },
  {
   "cell_type": "code",
   "execution_count": null,
   "metadata": {
    "cell_id": "00178-997cf275-7165-43a5-8775-b662637ed272",
    "deepnote_cell_type": "code",
    "deepnote_to_be_reexecuted": false,
    "execution_millis": 6,
    "execution_start": 1634976882173,
    "source_hash": "e980cdee",
    "tags": []
   },
   "outputs": [],
   "source": [
    "array_of_integers = np.array([145353,23,33789,6653,6,9878,117,377,1456783])\n",
    "array_of_integers"
   ]
  },
  {
   "cell_type": "code",
   "execution_count": null,
   "metadata": {
    "cell_id": "00179-32f518f8-b8b1-4bf2-9d4c-914b94fe0c77",
    "deepnote_cell_type": "code",
    "deepnote_to_be_reexecuted": false,
    "execution_millis": 594,
    "execution_start": 1635045984673,
    "source_hash": "ce23aa05",
    "tags": []
   },
   "outputs": [],
   "source": [
    "array_of_strings = np.array(['this', 'is', 'a', 'collection', 'of', 'strings'])\n",
    "array_of_strings"
   ]
  },
  {
   "cell_type": "code",
   "execution_count": null,
   "metadata": {
    "cell_id": "00180-ada68aa1-5e97-4500-beee-7c7ba69cae41",
    "deepnote_cell_type": "code",
    "deepnote_to_be_reexecuted": false,
    "execution_millis": 8,
    "execution_start": 1634977152206,
    "source_hash": "f67bddf4",
    "tags": []
   },
   "outputs": [],
   "source": [
    "mixed_array = np.array([1,5,7,3,13422, 'this is a string'])\n",
    "mixed_array"
   ]
  },
  {
   "cell_type": "code",
   "execution_count": null,
   "metadata": {
    "cell_id": "00181-1fc7791b-9ea5-4387-81a0-032311cda90d",
    "deepnote_cell_type": "code",
    "tags": []
   },
   "outputs": [],
   "source": [
    "sneaky_mixed_array = np.array([1,4,6,8,9,'3'])"
   ]
  },
  {
   "cell_type": "markdown",
   "metadata": {
    "cell_id": "00182-3050c0d9-85bb-4463-b741-fa2877b534c2",
    "deepnote_cell_type": "markdown",
    "tags": []
   },
   "source": [
    "Just like with regular Python lists you can easily create nested arrays in order to represent 2D, 3D, and multi-dimensional data."
   ]
  },
  {
   "cell_type": "code",
   "execution_count": null,
   "metadata": {
    "cell_id": "00183-a1e79845-7c62-4737-a68f-e955e0f3a302",
    "deepnote_cell_type": "code",
    "deepnote_to_be_reexecuted": false,
    "execution_millis": 5,
    "execution_start": 1634977412347,
    "source_hash": "9669d420",
    "tags": []
   },
   "outputs": [],
   "source": [
    "two_D_list = [[1, 2, 3,], [4, 5, 6], [7, 8, 9]]\n",
    "two_D_list"
   ]
  },
  {
   "cell_type": "code",
   "execution_count": null,
   "metadata": {
    "cell_id": "00184-61e8b2af-a467-472e-9a3f-10291374b5bf",
    "deepnote_cell_type": "code",
    "deepnote_to_be_reexecuted": false,
    "execution_millis": 12,
    "execution_start": 1634977451024,
    "source_hash": "71400894",
    "tags": []
   },
   "outputs": [],
   "source": [
    "two_D_array = np.array(two_D_list)\n",
    "two_D_array"
   ]
  },
  {
   "cell_type": "markdown",
   "metadata": {
    "cell_id": "00170-b872ff4f-27f7-4e35-a990-b698fb4fe1d7",
    "deepnote_cell_type": "markdown"
   },
   "source": [
    "### 2.2 Indexing Inside Arrays  <a id='subsection2.2'></a>\n",
    "\n",
    "One of the most important uses of numpy arrays is to store an retrieve data quickly. If you want a particular value from an array, you can acces that value exaclty the same way you would from a list"
   ]
  },
  {
   "cell_type": "code",
   "execution_count": null,
   "metadata": {
    "cell_id": "00186-d9bbf8a0-e2b6-4e9d-a0a5-6fd3f63fcb17",
    "deepnote_cell_type": "code",
    "deepnote_to_be_reexecuted": false,
    "execution_millis": 135,
    "execution_start": 1634977579682,
    "source_hash": "28624205",
    "tags": []
   },
   "outputs": [],
   "source": [
    "simple_list = [1,2,3,4,5,6]\n",
    "simple_list[2]"
   ]
  },
  {
   "cell_type": "code",
   "execution_count": null,
   "metadata": {
    "cell_id": "00187-518d481c-3296-46a2-9c87-b63d68d0d747",
    "deepnote_cell_type": "code",
    "deepnote_to_be_reexecuted": false,
    "execution_millis": 13,
    "execution_start": 1634977839166,
    "source_hash": "8e34dada",
    "tags": []
   },
   "outputs": [],
   "source": [
    "simple_array = np.array(simple_list)\n",
    "simple_array[2]"
   ]
  },
  {
   "cell_type": "code",
   "execution_count": null,
   "metadata": {
    "cell_id": "00187-ff10f54d-35bf-4cdb-8400-4784bba01274",
    "deepnote_cell_type": "code",
    "deepnote_to_be_reexecuted": false,
    "execution_millis": 3,
    "execution_start": 1634977678106,
    "source_hash": "6d53828f",
    "tags": []
   },
   "outputs": [],
   "source": [
    "two_D_array"
   ]
  },
  {
   "cell_type": "code",
   "execution_count": null,
   "metadata": {
    "cell_id": "00187-18adbbf1-34dc-49d0-823b-4befdecded4e",
    "deepnote_cell_type": "code",
    "deepnote_to_be_reexecuted": false,
    "execution_millis": 7,
    "execution_start": 1634977687312,
    "source_hash": "1c45c599",
    "tags": []
   },
   "outputs": [],
   "source": [
    "two_D_array[0, 0]"
   ]
  },
  {
   "cell_type": "code",
   "execution_count": null,
   "metadata": {
    "cell_id": "00190-d8f9fb7a-66d6-464b-a2f2-9a9fd779b2ec",
    "deepnote_cell_type": "code",
    "deepnote_to_be_reexecuted": false,
    "execution_millis": 3,
    "execution_start": 1634977741281,
    "source_hash": "f4411402",
    "tags": []
   },
   "outputs": [],
   "source": [
    "two_D_array[0, 2]"
   ]
  },
  {
   "cell_type": "code",
   "execution_count": null,
   "metadata": {
    "cell_id": "00193-fd893682-1e90-4170-9e56-9c95ac8b2e55",
    "deepnote_cell_type": "code",
    "deepnote_to_be_reexecuted": false,
    "execution_millis": 7,
    "execution_start": 1634977884840,
    "source_hash": "2ece69d6",
    "tags": []
   },
   "outputs": [],
   "source": [
    "simple_array[1:3]"
   ]
  },
  {
   "cell_type": "code",
   "execution_count": null,
   "metadata": {
    "cell_id": "00195-bc959062-1921-4584-a720-4f3cc21113ae",
    "deepnote_cell_type": "code",
    "deepnote_to_be_reexecuted": false,
    "execution_millis": 0,
    "execution_start": 1634977953605,
    "source_hash": "ca6c0f35",
    "tags": []
   },
   "outputs": [],
   "source": [
    "two_D_array[1:, 1:]"
   ]
  },
  {
   "cell_type": "markdown",
   "metadata": {
    "cell_id": "00172-4337849b-e90e-4941-bf8c-654af7ad0d47",
    "deepnote_cell_type": "markdown"
   },
   "source": [
    "### 2.3 Array Operations <a id='subsection2.3'></a>"
   ]
  },
  {
   "cell_type": "code",
   "execution_count": null,
   "metadata": {},
   "outputs": [],
   "source": [
    "my_array = np.array([0, 1, 2, 3, 4, 5, 6])\n",
    "my_array"
   ]
  },
  {
   "cell_type": "markdown",
   "metadata": {},
   "source": [
    "#### Add  3 to array\n",
    "\n",
    "* adds 3 to each element in the array "
   ]
  },
  {
   "cell_type": "code",
   "execution_count": null,
   "metadata": {},
   "outputs": [],
   "source": [
    "my_array + 3"
   ]
  },
  {
   "cell_type": "markdown",
   "metadata": {},
   "source": [
    "#### Multiply by 3\n",
    "\n",
    "* multiplies by 3 each element in the array "
   ]
  },
  {
   "cell_type": "code",
   "execution_count": null,
   "metadata": {},
   "outputs": [],
   "source": [
    "my_array * 3\n"
   ]
  },
  {
   "cell_type": "markdown",
   "metadata": {},
   "source": [
    "#### Operations can apply to more than one array. \n"
   ]
  },
  {
   "cell_type": "code",
   "execution_count": null,
   "metadata": {},
   "outputs": [],
   "source": [
    "array_one = np.array([1, 2, 3])\n",
    "array_two =  np.array([4, 5, 6])"
   ]
  },
  {
   "cell_type": "code",
   "execution_count": null,
   "metadata": {
    "scrolled": false
   },
   "outputs": [],
   "source": [
    "array_three  = array_one + array_two \n",
    "array_three"
   ]
  },
  {
   "cell_type": "code",
   "execution_count": null,
   "metadata": {},
   "outputs": [],
   "source": [
    "array_one * array_two"
   ]
  },
  {
   "cell_type": "code",
   "execution_count": null,
   "metadata": {},
   "outputs": [],
   "source": [
    "array_one.dot(array_two)"
   ]
  },
  {
   "cell_type": "code",
   "execution_count": null,
   "metadata": {},
   "outputs": [],
   "source": [
    "np.dot(array_one, array_two)"
   ]
  },
  {
   "cell_type": "markdown",
   "metadata": {},
   "source": [
    "---\n",
    "## 3. Intro to Pandas Data Frames<a id='section3'></a>"
   ]
  },
  {
   "cell_type": "code",
   "execution_count": null,
   "metadata": {},
   "outputs": [],
   "source": [
    "import pandas as pd"
   ]
  },
  {
   "cell_type": "markdown",
   "metadata": {},
   "source": [
    "### 3.1 Importing Data & Summary Statistics  <a id='subsection3.1'></a>"
   ]
  },
  {
   "cell_type": "markdown",
   "metadata": {},
   "source": [
    "We will use the function `read_csv()` in the _pandas_ library to import and read our data. The _csv_ at the end of the function tells the program to read a comma-delimited file. However, there are many other types of delimiters such as tab, semicolon, pipe, etc. \n",
    "\n",
    "We will now read a the _iris.csv_ file as a **DataFrame** and store it in a variable called _iris_."
   ]
  },
  {
   "cell_type": "code",
   "execution_count": null,
   "metadata": {},
   "outputs": [],
   "source": [
    "iris = pd.read_csv('data/iris.csv')"
   ]
  },
  {
   "cell_type": "markdown",
   "metadata": {},
   "source": [
    "Great! Now let's explore our data set. \n",
    "\n",
    "We will begin by using the method (or function)  `.head()`. By default, it will show the first 5 rows of or data set, but you can tell it to display the first n results by _passing n as an argument to `.head()`."
   ]
  },
  {
   "cell_type": "code",
   "execution_count": null,
   "metadata": {
    "scrolled": true
   },
   "outputs": [],
   "source": [
    "iris.head()"
   ]
  },
  {
   "cell_type": "markdown",
   "metadata": {},
   "source": [
    "You can also see the last _n_ rows of our data using the method `.tail()`."
   ]
  },
  {
   "cell_type": "code",
   "execution_count": null,
   "metadata": {
    "scrolled": true
   },
   "outputs": [],
   "source": [
    "iris.tail()"
   ]
  },
  {
   "cell_type": "markdown",
   "metadata": {},
   "source": [
    "`DataFrames` contain rows and columns. If you want to understand the structure of your DataFrame, there a few functions and attributes that might come handy. \n",
    "\n",
    "These include\n",
    "* `shape`\n",
    "* `columns`\n",
    "* `index`\n",
    "* `info()`\n",
    "* `describe()`\n",
    "* `len()`"
   ]
  },
  {
   "cell_type": "code",
   "execution_count": null,
   "metadata": {},
   "outputs": [],
   "source": [
    "iris.shape"
   ]
  },
  {
   "cell_type": "markdown",
   "metadata": {},
   "source": [
    "The iris DataFrame contains 150 rows and 5 columns."
   ]
  },
  {
   "cell_type": "code",
   "execution_count": null,
   "metadata": {},
   "outputs": [],
   "source": [
    "iris.columns"
   ]
  },
  {
   "cell_type": "code",
   "execution_count": null,
   "metadata": {},
   "outputs": [],
   "source": [
    "iris.index"
   ]
  },
  {
   "cell_type": "code",
   "execution_count": null,
   "metadata": {},
   "outputs": [],
   "source": [
    "iris.info()"
   ]
  },
  {
   "cell_type": "markdown",
   "metadata": {},
   "source": [
    "As with lists and arrays, you can also use the function `len()` to see how many rows or elements our data set contains."
   ]
  },
  {
   "cell_type": "code",
   "execution_count": null,
   "metadata": {
    "scrolled": true
   },
   "outputs": [],
   "source": [
    "len(iris)"
   ]
  },
  {
   "cell_type": "markdown",
   "metadata": {},
   "source": [
    "Another cool method is `.describe()`. Describe provides you with some basic statistics about each of the variables in your DataFrame including measures for tendency, dispersion and shape of a\n",
    "dataset's distribution, excluding **NaN** values.\n",
    "* By default, it will return the summary statistics of the numeric columns, but it can also work with mixed data. If the method is called on strings it will return measures such as the count, number of unique values, and the most frequent value."
   ]
  },
  {
   "cell_type": "code",
   "execution_count": null,
   "metadata": {
    "scrolled": true
   },
   "outputs": [],
   "source": [
    "iris.describe()"
   ]
  },
  {
   "cell_type": "markdown",
   "metadata": {},
   "source": [
    "### 3.2 Indexing &  Slicing  <a id='subsection3.2'></a>"
   ]
  },
  {
   "cell_type": "markdown",
   "metadata": {},
   "source": [
    "#### .loc[rows-label(s),columns-label(s)]\n",
    "`.loc` Helps us view and index our DataFrame. \n",
    "* It works with string labels. Notice that most of the times you will have specific column names, but our row names often come as a number. Hence the label of the rows will be a number.   \n",
    "* It can take \n",
    "    * one label __(df.loc[row-label, 'col-label-1'])__\n",
    "    * a list of labels __(df.loc[[row-label 1, row-label-2, row-label-4],['col-label-1',  'col-label-2', 'col-label-4']])__\n",
    "    * or a _slice_ of labels __(df.loc[row label-50 : row-label-100,'col-label-1': 'col-label-8'])__\n"
   ]
  },
  {
   "cell_type": "markdown",
   "metadata": {},
   "source": [
    "#### Rows"
   ]
  },
  {
   "cell_type": "markdown",
   "metadata": {},
   "source": [
    "Let's use loc to see what are the values in row 10 in our DataFrame"
   ]
  },
  {
   "cell_type": "code",
   "execution_count": null,
   "metadata": {
    "scrolled": false
   },
   "outputs": [],
   "source": [
    "iris.loc[10]"
   ]
  },
  {
   "cell_type": "markdown",
   "metadata": {},
   "source": [
    "* _Noticed that if our rows were labeled with textual information, we would have to use that name instead of \"10\". In this case the label for the 10th row is indeed 10. "
   ]
  },
  {
   "cell_type": "markdown",
   "metadata": {},
   "source": [
    "What if we want to see what are the values in row 5, 10, and 15? Let's pass 5,10, 15 into `loc` as a list of values. \n"
   ]
  },
  {
   "cell_type": "code",
   "execution_count": null,
   "metadata": {},
   "outputs": [],
   "source": [
    "iris.loc[[5,10,15]]"
   ]
  },
  {
   "cell_type": "markdown",
   "metadata": {},
   "source": [
    "This returned a `DataFrame` whereas the first returned a `series`. This is because on this one we selected a range of values. "
   ]
  },
  {
   "cell_type": "markdown",
   "metadata": {},
   "source": [
    "How would you use loc to see what are the values of rows 10-20? Yes, you can use a list like in the example above, but it can be quite cumbersome to have to type each number from 10 - 20. There is a better way, and this is slicing, just like we did with arrays and lists. "
   ]
  },
  {
   "cell_type": "code",
   "execution_count": null,
   "metadata": {},
   "outputs": [],
   "source": [
    "iris.loc[10 : 20]"
   ]
  },
  {
   "cell_type": "markdown",
   "metadata": {},
   "source": [
    "#### Columns \n",
    "\n",
    "Great! Now that you know how to index rows, let's see how we can index columns. Don't forget that we are still using `loc`, so we will have to use column labels."
   ]
  },
  {
   "cell_type": "markdown",
   "metadata": {},
   "source": [
    "Let's begin by indexing by one column, variety."
   ]
  },
  {
   "cell_type": "code",
   "execution_count": null,
   "metadata": {
    "scrolled": true
   },
   "outputs": [],
   "source": [
    "iris.loc[: ,'variety']"
   ]
  },
  {
   "cell_type": "markdown",
   "metadata": {},
   "source": [
    "Another way to index by only one column is by adding the column label in a list. "
   ]
  },
  {
   "cell_type": "code",
   "execution_count": null,
   "metadata": {},
   "outputs": [],
   "source": [
    "iris.loc[: ,['variety']]"
   ]
  },
  {
   "cell_type": "markdown",
   "metadata": {},
   "source": [
    "The difference between these two is that the first returned a `series` because only selected a label, and the second returned a n*1 `DataFrame` because we passed a list.  "
   ]
  },
  {
   "cell_type": "markdown",
   "metadata": {},
   "source": [
    "Noticed that here we had to specify the range of rows that we want to index that column by. We used `:` in order to return all values in the column."
   ]
  },
  {
   "cell_type": "markdown",
   "metadata": {},
   "source": [
    "Now, let's index by more than one column. Just as before we will use a list containing our desired column labels. "
   ]
  },
  {
   "cell_type": "code",
   "execution_count": null,
   "metadata": {},
   "outputs": [],
   "source": [
    "iris.loc[:,['sepal.length', 'sepal.width','variety']]"
   ]
  },
  {
   "cell_type": "markdown",
   "metadata": {},
   "source": [
    "Just as we sliced rows, we can do the same with column. "
   ]
  },
  {
   "cell_type": "code",
   "execution_count": null,
   "metadata": {
    "scrolled": true
   },
   "outputs": [],
   "source": [
    "iris.loc[:,'sepal.length': 'petal.width']"
   ]
  },
  {
   "cell_type": "markdown",
   "metadata": {},
   "source": [
    "#### .iloc[rows_index,columns_index]\n",
    "\n",
    "Another way to index is using `.iloc`. `iloc` allows us to index using integer positions. \n"
   ]
  },
  {
   "cell_type": "markdown",
   "metadata": {},
   "source": [
    "#### Rows"
   ]
  },
  {
   "cell_type": "code",
   "execution_count": null,
   "metadata": {},
   "outputs": [],
   "source": [
    "iris.iloc[[1,3,6,8,9]]"
   ]
  },
  {
   "cell_type": "markdown",
   "metadata": {},
   "source": [
    "Recall the __start:stop:step__ from lists? Well we can also select a range of rows with a specified step value in our data DataFrame. In here we will take every 5th element from the 50th row to the 150th row. "
   ]
  },
  {
   "cell_type": "code",
   "execution_count": null,
   "metadata": {},
   "outputs": [],
   "source": [
    "iris.iloc[50:150:5]"
   ]
  },
  {
   "cell_type": "markdown",
   "metadata": {},
   "source": [
    "#### Columns"
   ]
  },
  {
   "cell_type": "markdown",
   "metadata": {},
   "source": [
    "As we mentioned before `iloc` works just like `loc`, but instead of using labels we use the index. Let's get all the rows in the fifth column. Don't forget that we are starting at the 0th index."
   ]
  },
  {
   "cell_type": "code",
   "execution_count": null,
   "metadata": {
    "scrolled": true
   },
   "outputs": [],
   "source": [
    " iris.iloc[:,4]"
   ]
  },
  {
   "cell_type": "markdown",
   "metadata": {},
   "source": [
    "### 3.3 Manipulating Columns  <a id='subsection3.3'></a>"
   ]
  },
  {
   "cell_type": "markdown",
   "metadata": {},
   "source": [
    "Let's load in a new data set called \"cereal\". We will use `pd.read_csv` just as we did before."
   ]
  },
  {
   "cell_type": "code",
   "execution_count": null,
   "metadata": {},
   "outputs": [],
   "source": [
    "cereal = pd.read_csv('data/cereal.csv')"
   ]
  },
  {
   "cell_type": "code",
   "execution_count": null,
   "metadata": {
    "scrolled": false
   },
   "outputs": [],
   "source": [
    "cereal"
   ]
  },
  {
   "cell_type": "markdown",
   "metadata": {},
   "source": [
    "####  Uniqueness"
   ]
  },
  {
   "cell_type": "markdown",
   "metadata": {},
   "source": [
    "Suppose that we want to find out the number of unique manufacturers in our data. The `.unique()` method allows us to check this. \n",
    "\n",
    "There are two ways to accomplish this, one is using the \"dot\" notation, and the other using brackets. For the most part, we will stick to the second method as it can be easy to run into errors.\n",
    "\n",
    "1)__df.column_label.unique()__\n",
    "\n",
    "2) __df['column_label'].unique()__\n",
    "\n"
   ]
  },
  {
   "cell_type": "code",
   "execution_count": null,
   "metadata": {},
   "outputs": [],
   "source": [
    "print('There are ',cereal['mfr'].nunique() ,'unique manufacturers')\n",
    "print('These are: ', cereal['mfr'].unique())"
   ]
  },
  {
   "cell_type": "markdown",
   "metadata": {},
   "source": [
    "Notice that we used the method `.nunique()` to tell us how _many_ unique items we have rather which items. An alternative way to compute this is __len(cereal['mfr'].nunique())__."
   ]
  },
  {
   "cell_type": "markdown",
   "metadata": {},
   "source": [
    "#### Frequencies"
   ]
  },
  {
   "cell_type": "markdown",
   "metadata": {},
   "source": [
    "More specifically, say we want to know how many cereals exist per manufacturers. In this case, we would like to use the `.value_counts()` method instead. This method returns the counts for the unique values in our column. "
   ]
  },
  {
   "cell_type": "code",
   "execution_count": null,
   "metadata": {},
   "outputs": [],
   "source": [
    "cereal['mfr'].value_counts()"
   ]
  },
  {
   "cell_type": "markdown",
   "metadata": {},
   "source": [
    "Notice that this method sorts our values in decreasing order? What if you had an alternative sorting that you wanted to use? Maybe you want to sort by index, that is, in alphabetical order. In this case you would want to use the `sort_index()` method as seen below. "
   ]
  },
  {
   "cell_type": "markdown",
   "metadata": {},
   "source": [
    "#### Sorting"
   ]
  },
  {
   "cell_type": "code",
   "execution_count": null,
   "metadata": {
    "scrolled": true
   },
   "outputs": [],
   "source": [
    "cereal['mfr'].value_counts().sort_index()"
   ]
  },
  {
   "cell_type": "markdown",
   "metadata": {},
   "source": [
    "If instead you wanted to sort by counts, but in ascending order, you can use the `.sort_values()` method instead with the argument __ascending = True__."
   ]
  },
  {
   "cell_type": "code",
   "execution_count": null,
   "metadata": {},
   "outputs": [],
   "source": [
    "cereal['mfr'].value_counts().sort_values(ascending=True)"
   ]
  },
  {
   "cell_type": "markdown",
   "metadata": {},
   "source": [
    "#### Min, Max, & Range"
   ]
  },
  {
   "cell_type": "markdown",
   "metadata": {},
   "source": [
    "Say that for our analysis we want to understand our cereals by the rating feature.\n",
    "\n",
    "A good starting point might be to see what the __min__ and the __max__ are for our data. We can do this by using the functions `.min()` and `.max()` respectably. "
   ]
  },
  {
   "cell_type": "code",
   "execution_count": null,
   "metadata": {
    "scrolled": true
   },
   "outputs": [],
   "source": [
    "print('Min rating is :', cereal['rating'].min())\n",
    "\n",
    "print('Max rating is :', cereal['rating'].max())"
   ]
  },
  {
   "cell_type": "markdown",
   "metadata": {},
   "source": [
    "To get the range, all you need to do is subtract the min from the max!\n",
    "\n",
    "Tip: Create a variable for the max and the min so that you don't have to spend time rewriting your code! If you don't remember how to do this, go back to Lesson 1."
   ]
  },
  {
   "cell_type": "markdown",
   "metadata": {},
   "source": [
    "Bonus: Use the function `round` to round these two numbers to decimal places. "
   ]
  },
  {
   "cell_type": "markdown",
   "metadata": {},
   "source": [
    "#### Missing Values"
   ]
  },
  {
   "cell_type": "markdown",
   "metadata": {},
   "source": [
    "A common problem that you will come across when analyzing data is __missing__ data. You can check if you data set contains by using the function `.isnull()`. This function returns True whenever a values is missing and False whenever it is not. We can combine this function with `.sum()` to add up all the values that are True  & False.\n",
    "\n",
    "** In Python (as in most programming languages), True is represented by 1, and False by 0. So using the `sum` function allows us to treat these True/False as numerical values. "
   ]
  },
  {
   "cell_type": "code",
   "execution_count": null,
   "metadata": {
    "scrolled": true
   },
   "outputs": [],
   "source": [
    "cereal.isnull().sum()"
   ]
  },
  {
   "cell_type": "markdown",
   "metadata": {},
   "source": [
    "Notice that for the example above we checked for the number of missing values in each of the columns? What if you only wanted to do it for one? You can use the same methods we discuss prior, that is bracket and dot notation."
   ]
  },
  {
   "cell_type": "code",
   "execution_count": null,
   "metadata": {},
   "outputs": [],
   "source": [
    "cereal['rating'].isnull().sum()"
   ]
  },
  {
   "cell_type": "markdown",
   "metadata": {},
   "source": [
    "#### Groupby "
   ]
  },
  {
   "cell_type": "markdown",
   "metadata": {},
   "source": [
    "Now, say that we want to find the average amount of calories for the cereals per manufacturer. We can use an operation called `.groupby()`. `.groupby()` involves a combination of splitting an object (a series or column), applying a function (for example `.sum()`,`.mean()`, or `.count()`), and combining the results. \n"
   ]
  },
  {
   "cell_type": "code",
   "execution_count": null,
   "metadata": {
    "scrolled": true
   },
   "outputs": [],
   "source": [
    "cereal.groupby(\"mfr\")['calories'].mean()"
   ]
  },
  {
   "cell_type": "markdown",
   "metadata": {},
   "source": [
    "Let's break down what happened above. We begin with a DataFrame (`cereal`) and tell pandas (our library) to group by a column (`mfr`). Then we need to specify what column (`calories`) we want to operate our desired operation (`mean`) on."
   ]
  },
  {
   "cell_type": "code",
   "execution_count": null,
   "metadata": {},
   "outputs": [],
   "source": [
    "cereal.head()"
   ]
  },
  {
   "cell_type": "markdown",
   "metadata": {},
   "source": [
    "You can also group by more than one column! You just need to add the columns in a list. \n",
    "\n",
    "For instance, let's get the number of cereals by type and  manufacturer."
   ]
  },
  {
   "cell_type": "code",
   "execution_count": null,
   "metadata": {
    "scrolled": true
   },
   "outputs": [],
   "source": [
    "cereal.groupby([\"type\", \"mfr\"])['name'].count()"
   ]
  },
  {
   "cell_type": "markdown",
   "metadata": {},
   "source": [
    "The outcome from the groupby above resulted in a `Seires`. If instead you would like to return your data as a `DataFrame` we have to use an additional brackets around the column that we are calling the action on, on this case `name`."
   ]
  },
  {
   "cell_type": "code",
   "execution_count": null,
   "metadata": {},
   "outputs": [],
   "source": [
    "cereal.groupby([\"type\", \"mfr\"])[['name']].count()"
   ]
  },
  {
   "cell_type": "markdown",
   "metadata": {},
   "source": [
    "### 3.4 Boolean Indexing\n",
    " <a id='subsection3.4'></a>"
   ]
  },
  {
   "cell_type": "markdown",
   "metadata": {},
   "source": [
    "Suppose we only want to look at the cereals that behave less than 100 calories. We will use __boolean indexing__ to create a DataFrame that meets this criteria. \n",
    "\n",
    "We will accomplish this by:\n",
    "1. Selecting the `calories` column from the DataFrame. \n",
    "2. We will create an array (or list) of Booleans where each value is True if and only if the value in the calories is less than 100, otherwise it will return False. You will have to use a boolean operator such as <,>, <=,>=, ==, !=, etc. on the column. \n",
    "3. Use the array of True/False values to only slice the values that correspond to True rows from our datafram"
   ]
  },
  {
   "cell_type": "code",
   "execution_count": null,
   "metadata": {},
   "outputs": [],
   "source": [
    "cereal['calories'] < 100"
   ]
  },
  {
   "cell_type": "code",
   "execution_count": null,
   "metadata": {},
   "outputs": [],
   "source": [
    "tf_array = cereal['calories'] < 100"
   ]
  },
  {
   "cell_type": "code",
   "execution_count": null,
   "metadata": {
    "scrolled": false
   },
   "outputs": [],
   "source": [
    "cereal[tf_array]"
   ]
  },
  {
   "cell_type": "code",
   "execution_count": null,
   "metadata": {},
   "outputs": [],
   "source": [
    "cereal[cereal['calories'] < 100]"
   ]
  },
  {
   "cell_type": "code",
   "execution_count": null,
   "metadata": {},
   "outputs": [],
   "source": [
    "cereal[(cereal['calories'] < 100) & ((cereal['calories'] > 70))]"
   ]
  },
  {
   "cell_type": "code",
   "execution_count": null,
   "metadata": {},
   "outputs": [],
   "source": [
    "# EXERCISE\n",
    "# Select only the rows that have more than 200 calories from cereal\n",
    "..."
   ]
  },
  {
   "cell_type": "markdown",
   "metadata": {},
   "source": [
    "# 4. Plotting <a id='section4'>"
   ]
  },
  {
   "cell_type": "markdown",
   "metadata": {},
   "source": [
    "The most commonly used Python plotting library is _matplotlib_. It is robust and has very rich functionality but also some basic methods which are easy to use via simple commands.\n"
   ]
  },
  {
   "cell_type": "code",
   "execution_count": null,
   "metadata": {},
   "outputs": [],
   "source": [
    "import matplotlib.pyplot as plt"
   ]
  },
  {
   "cell_type": "markdown",
   "metadata": {},
   "source": [
    "But there are many other plotting libraries (many of them built on top of matplotlib) which offer richer plotting functionality or simplified syntax for advanced commands. Let's use the _seaborn_ library to look at some of those as well.\n"
   ]
  },
  {
   "cell_type": "code",
   "execution_count": null,
   "metadata": {},
   "outputs": [],
   "source": [
    "import seaborn as sns "
   ]
  },
  {
   "cell_type": "markdown",
   "metadata": {},
   "source": [
    "The most basic and probably the most heavily used plot is always the scatterplot. Here is how to create a scatterplot with just one line of matplotlib code."
   ]
  },
  {
   "cell_type": "code",
   "execution_count": null,
   "metadata": {},
   "outputs": [],
   "source": [
    "plt.scatter(cereal['calories'], cereal['sugars'])"
   ]
  },
  {
   "cell_type": "code",
   "execution_count": null,
   "metadata": {},
   "outputs": [],
   "source": [
    "plt.scatter(cereal['calories'], cereal['rating'])"
   ]
  },
  {
   "cell_type": "markdown",
   "metadata": {},
   "source": [
    "If we want to take get a sense for the distribution of values in one of our columsn we can take a look at the histogram for that column like so."
   ]
  },
  {
   "cell_type": "code",
   "execution_count": null,
   "metadata": {},
   "outputs": [],
   "source": [
    "plt.hist(cereal['calories'])"
   ]
  },
  {
   "cell_type": "markdown",
   "metadata": {},
   "source": [
    "Let's now use _seaborn_ copare the distribution of our data grouped by manufacturer. Can you do this with _matplotlib_? Sure, but you'll have to do a bunch manual sorting. It is much easier to find the correct command in _seaborn_ which does all the sorting for us."
   ]
  },
  {
   "cell_type": "code",
   "execution_count": null,
   "metadata": {
    "scrolled": false
   },
   "outputs": [],
   "source": [
    "sns.boxplot(data=cereal, x='mfr', y='calories')"
   ]
  },
  {
   "cell_type": "markdown",
   "metadata": {},
   "source": [
    "Another extremely common type of plot is the humble line plot. Let's use it to look at the relationship between calorie count and rating in our cereal data."
   ]
  },
  {
   "cell_type": "code",
   "execution_count": null,
   "metadata": {},
   "outputs": [],
   "source": [
    "plt.plot(cereal['calories'], cereal['rating'])"
   ]
  },
  {
   "cell_type": "markdown",
   "metadata": {},
   "source": [
    "Looks like our _rating_ values are all mixed up. We better do some sorting before we can get a useful line plot."
   ]
  },
  {
   "cell_type": "code",
   "execution_count": null,
   "metadata": {},
   "outputs": [],
   "source": [
    "sorted_cereal = cereal.sort_values('rating')"
   ]
  },
  {
   "cell_type": "code",
   "execution_count": null,
   "metadata": {},
   "outputs": [],
   "source": [
    "plt.plot(sorted_cereal['rating'], sorted_cereal['calories'])"
   ]
  },
  {
   "cell_type": "markdown",
   "metadata": {},
   "source": [
    "There we have it, clear as day - the _lower_ the calorie count the higher the rating. \n",
    "\n",
    "But what if we wanted to see if we can fit a quick regression line can we do that? Sure, but we'd better use _seaborn_ for that instead of _matplotlib_. _Seaborn_ has this capability built in while for _matplotlib_ we would have to manually fit the regression line using other libraries."
   ]
  },
  {
   "cell_type": "code",
   "execution_count": null,
   "metadata": {},
   "outputs": [],
   "source": [
    "sns.lmplot(x ='rating', y ='calories', data = sorted_cereal)"
   ]
  },
  {
   "cell_type": "markdown",
   "metadata": {},
   "source": [
    "_Seaborn_ can even fit non-linear regression lines!"
   ]
  },
  {
   "cell_type": "code",
   "execution_count": null,
   "metadata": {
    "scrolled": true
   },
   "outputs": [],
   "source": [
    "sns.lmplot(x ='rating', y ='calories', data = sorted_cereal, order=2)"
   ]
  },
  {
   "cell_type": "code",
   "execution_count": null,
   "metadata": {},
   "outputs": [],
   "source": [
    "sns.lmplot(x ='rating', y ='calories', data = sorted_cereal, order=3)"
   ]
  },
  {
   "cell_type": "markdown",
   "metadata": {},
   "source": [
    "Notebook developed by: Kseniya Usovich, Karla Palos, and Anton Bosneaga\n",
    "\n",
    "Cal NERDS GitHub: https://github.com/Cal-NERDS"
   ]
  }
 ],
 "metadata": {
  "deepnote": {},
  "deepnote_execution_queue": [],
  "deepnote_notebook_id": "772a3286-55e8-428b-8b14-f79c26e35182",
  "kernelspec": {
   "display_name": "Python 3 (ipykernel)",
   "language": "python",
   "name": "python3"
  },
  "language_info": {
   "codemirror_mode": {
    "name": "ipython",
    "version": 3
   },
   "file_extension": ".py",
   "mimetype": "text/x-python",
   "name": "python",
   "nbconvert_exporter": "python",
   "pygments_lexer": "ipython3",
   "version": "3.8.11"
  }
 },
 "nbformat": 4,
 "nbformat_minor": 4
}
