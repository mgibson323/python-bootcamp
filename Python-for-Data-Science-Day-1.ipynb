{
 "cells": [
  {
   "cell_type": "markdown",
   "metadata": {
    "cell_id": "00000-cdf91eab-b312-4f17-a59b-bf130cc4f950",
    "deepnote_cell_type": "markdown"
   },
   "source": [
    "# Intro to Python for Data Science\n",
    "\n",
    "\n",
    "\n",
    "---\n",
    "<img src=\"https://calnerds.berkeley.edu/css/images/logo.jpg\"  /> <!--style=\"width: 500px; height: 275px;\"-->\n",
    "\n",
    "\n",
    "\n",
    "## Day 1\n"
   ]
  },
  {
   "cell_type": "markdown",
   "metadata": {
    "cell_id": "00001-d3974116-8051-4884-87e0-4f3d2ef95eca",
    "deepnote_cell_type": "markdown"
   },
   "source": [
    "# Table of Contents\n",
    "\n",
    "1 - [Python As A Calculator](#section1)<br>\n",
    "\n",
    "2 - [Variable Assignments](#section2)<br>\n",
    "\n",
    "3 - [Strings](#section3)<br>\n",
    "\n",
    "4 - [Lists](#section4)<br>\n",
    "\n",
    "5 - [Tuples](#section5)<br>\n",
    "\n",
    "6 - [Sets](#section6)<br>\n",
    "\n",
    "7 - [Booleans](#section7)<br>\n",
    "\n",
    "8 - [Comparison Operators](#section8)<br>\n",
    "\n",
    "9 - [if, elif, and else Statements](#section9)<br>\n",
    "\n",
    "10 - [Logical Operators](#section10)<br>\n",
    "\n",
    "11 - [Loops](#section11)<br>\n",
    "\n",
    "12 - [Dictionaries](#section12)<br>\n",
    "\n",
    "13 - [Functions](#section13)<br> \n",
    "\n",
    "14 - [Importing Libraries](#section14)<br>\n",
    "\n",
    "\n",
    "\n"
   ]
  },
  {
   "cell_type": "markdown",
   "metadata": {
    "cell_id": "00002-51e40cb1-ce1f-4651-906b-099701aff253",
    "deepnote_cell_type": "markdown"
   },
   "source": [
    "----\n",
    "## Python as a Calculator\n",
    "\n",
    "Numerals essentially are just numbers. And you can do all kinds of manipulations with them as you would do with numbers. There are two types of numerals: int and float. \"Int\" is an integer and \"float\" is a number with a decimal point."
   ]
  },
  {
   "cell_type": "code",
   "execution_count": null,
   "metadata": {
    "cell_id": "00003-fce2c940-08c5-464c-a7be-b618d0cd24d3",
    "deepnote_cell_type": "code",
    "deepnote_to_be_reexecuted": false,
    "execution_millis": 1,
    "execution_start": 1634839556591,
    "source_hash": "6ae9a936"
   },
   "outputs": [],
   "source": [
    "# +, -, *, **, / , // , %\n"
   ]
  },
  {
   "cell_type": "code",
   "execution_count": 1,
   "metadata": {
    "cell_id": "00004-4228a471-1df4-4ba2-bfe6-617aa9cba0f9",
    "deepnote_cell_type": "code",
    "deepnote_to_be_reexecuted": false,
    "execution_millis": 7,
    "execution_start": 1634839557585,
    "source_hash": "1d4d038b"
   },
   "outputs": [
    {
     "data": {
      "text/plain": [
       "2"
      ]
     },
     "execution_count": 1,
     "metadata": {},
     "output_type": "execute_result"
    }
   ],
   "source": [
    "1 + 1"
   ]
  },
  {
   "cell_type": "code",
   "execution_count": 2,
   "metadata": {
    "cell_id": "00005-c4540242-588c-44c8-918c-6f96adaac2e1",
    "deepnote_cell_type": "code",
    "deepnote_to_be_reexecuted": false,
    "execution_millis": 108,
    "execution_start": 1634839597660,
    "source_hash": "f7dd8628"
   },
   "outputs": [
    {
     "data": {
      "text/plain": [
       "25"
      ]
     },
     "execution_count": 2,
     "metadata": {},
     "output_type": "execute_result"
    }
   ],
   "source": [
    "2021 - 1996 "
   ]
  },
  {
   "cell_type": "code",
   "execution_count": null,
   "metadata": {
    "cell_id": "00006-85e052c0-bbf3-4525-8fec-71398d014273",
    "deepnote_cell_type": "code",
    "deepnote_to_be_reexecuted": false,
    "execution_millis": 3,
    "execution_start": 1634839599293,
    "source_hash": "b9e16df3"
   },
   "outputs": [],
   "source": [
    "40 * 17 * 52 "
   ]
  },
  {
   "cell_type": "code",
   "execution_count": 6,
   "metadata": {
    "cell_id": "00007-9c95df73-21e2-420b-940d-b921df6a1d77",
    "deepnote_cell_type": "code",
    "deepnote_to_be_reexecuted": false,
    "execution_millis": 8,
    "execution_start": 1634839600132,
    "source_hash": "95a983cf"
   },
   "outputs": [
    {
     "data": {
      "text/plain": [
       "3125"
      ]
     },
     "execution_count": 6,
     "metadata": {},
     "output_type": "execute_result"
    }
   ],
   "source": [
    "5 ** 5"
   ]
  },
  {
   "cell_type": "code",
   "execution_count": null,
   "metadata": {
    "cell_id": "00008-b0d8ac2d-607d-4b0b-82be-8babe0e58865",
    "deepnote_cell_type": "code",
    "deepnote_to_be_reexecuted": false,
    "execution_millis": 7,
    "execution_start": 1634839600618,
    "source_hash": "6f122301"
   },
   "outputs": [],
   "source": [
    "25 ** (1/2)"
   ]
  },
  {
   "cell_type": "code",
   "execution_count": 7,
   "metadata": {
    "cell_id": "00009-511545dc-c1d5-4e09-82a8-577ad4db54b4",
    "deepnote_cell_type": "code",
    "deepnote_to_be_reexecuted": false,
    "execution_millis": 8,
    "execution_start": 1634839600871,
    "source_hash": "3ea6d91d"
   },
   "outputs": [
    {
     "data": {
      "text/plain": [
       "3.3333333333333335"
      ]
     },
     "execution_count": 7,
     "metadata": {},
     "output_type": "execute_result"
    }
   ],
   "source": [
    "10 / 3"
   ]
  },
  {
   "cell_type": "code",
   "execution_count": 8,
   "metadata": {
    "cell_id": "00010-d80430be-d722-44ae-b8e5-d8a2151b9516",
    "deepnote_cell_type": "code"
   },
   "outputs": [
    {
     "data": {
      "text/plain": [
       "3"
      ]
     },
     "execution_count": 8,
     "metadata": {},
     "output_type": "execute_result"
    }
   ],
   "source": [
    "10 // 3 "
   ]
  },
  {
   "cell_type": "code",
   "execution_count": 13,
   "metadata": {
    "cell_id": "00011-0aace393-44e0-446d-be90-1d2d5a1da325",
    "deepnote_cell_type": "code"
   },
   "outputs": [
    {
     "data": {
      "text/plain": [
       "1"
      ]
     },
     "execution_count": 13,
     "metadata": {},
     "output_type": "execute_result"
    }
   ],
   "source": [
    "10 % 3"
   ]
  },
  {
   "cell_type": "code",
   "execution_count": null,
   "metadata": {
    "cell_id": "00012-4ddc6d02-b641-4a01-b9c1-dce2cf6d2cfd",
    "deepnote_cell_type": "code"
   },
   "outputs": [],
   "source": [
    "# PEMDAS"
   ]
  },
  {
   "cell_type": "code",
   "execution_count": 10,
   "metadata": {
    "cell_id": "00013-45404642-477c-493f-9054-f5ca9edd65a5",
    "deepnote_cell_type": "code"
   },
   "outputs": [
    {
     "data": {
      "text/plain": [
       "25"
      ]
     },
     "execution_count": 10,
     "metadata": {},
     "output_type": "execute_result"
    }
   ],
   "source": [
    "5 * 6 - 5 "
   ]
  },
  {
   "cell_type": "code",
   "execution_count": 11,
   "metadata": {
    "cell_id": "00014-f09c46e2-284e-44bb-8bfc-80f79637da68",
    "deepnote_cell_type": "code"
   },
   "outputs": [
    {
     "data": {
      "text/plain": [
       "15.0"
      ]
     },
     "execution_count": 11,
     "metadata": {},
     "output_type": "execute_result"
    }
   ],
   "source": [
    "5**2*3/5"
   ]
  },
  {
   "cell_type": "code",
   "execution_count": 14,
   "metadata": {
    "cell_id": "00015-6ae0653b-ebc8-46f7-aef7-87c2e924782f",
    "deepnote_cell_type": "code"
   },
   "outputs": [
    {
     "data": {
      "text/plain": [
       "15.0"
      ]
     },
     "execution_count": 14,
     "metadata": {},
     "output_type": "execute_result"
    }
   ],
   "source": [
    "((5**2)*3)/5"
   ]
  },
  {
   "cell_type": "markdown",
   "metadata": {
    "cell_id": "00016-f9815838-50f7-4344-b00f-08f408f4efa2",
    "deepnote_cell_type": "markdown"
   },
   "source": [
    "---"
   ]
  },
  {
   "cell_type": "markdown",
   "metadata": {
    "cell_id": "00017-fab29a36-693e-4837-bfae-37d96e19f94d",
    "deepnote_cell_type": "markdown"
   },
   "source": [
    "## Variable Assignment"
   ]
  },
  {
   "cell_type": "markdown",
   "metadata": {},
   "source": [
    "In order to define a variable and store a value inside that variable all you need is the **equals** sign"
   ]
  },
  {
   "cell_type": "code",
   "execution_count": 25,
   "metadata": {
    "cell_id": "00018-28afbedd-e179-4059-b66d-2577ba188ef2",
    "deepnote_cell_type": "code"
   },
   "outputs": [
    {
     "data": {
      "text/plain": [
       "48"
      ]
     },
     "execution_count": 25,
     "metadata": {},
     "output_type": "execute_result"
    }
   ],
   "source": [
    "# my age \n",
    "48 "
   ]
  },
  {
   "cell_type": "code",
   "execution_count": 2,
   "metadata": {
    "cell_id": "00019-47254aeb-ddff-47bb-bb92-93e04e6e9c13",
    "deepnote_cell_type": "code"
   },
   "outputs": [],
   "source": [
    "age = 48"
   ]
  },
  {
   "cell_type": "markdown",
   "metadata": {},
   "source": [
    "If you \"give\" Python a variable name for processing. It will immediately respond with the variable's value."
   ]
  },
  {
   "cell_type": "code",
   "execution_count": 3,
   "metadata": {
    "cell_id": "00020-0b9f9c2c-9545-43a3-9608-cd54b652417f",
    "deepnote_cell_type": "code"
   },
   "outputs": [
    {
     "data": {
      "text/plain": [
       "48"
      ]
     },
     "execution_count": 3,
     "metadata": {},
     "output_type": "execute_result"
    }
   ],
   "source": [
    "age "
   ]
  },
  {
   "cell_type": "markdown",
   "metadata": {},
   "source": [
    "You can reassign an existing variable name to any other value after it is defined."
   ]
  },
  {
   "cell_type": "code",
   "execution_count": 4,
   "metadata": {
    "cell_id": "00021-f8b15b4a-e524-49ef-93a9-4e3f15d6a8ed",
    "deepnote_cell_type": "code"
   },
   "outputs": [],
   "source": [
    "age = 10 "
   ]
  },
  {
   "cell_type": "markdown",
   "metadata": {},
   "source": [
    "Variables are easy to use to compose various computations just like you would in an algebra context. You can just treat every variable as if it is a stand-in for the value you have previously assigned to that variable."
   ]
  },
  {
   "cell_type": "code",
   "execution_count": 5,
   "metadata": {
    "cell_id": "00022-ff226430-fd3f-41da-9cc7-4942d5655ddf",
    "deepnote_cell_type": "code"
   },
   "outputs": [
    {
     "data": {
      "text/plain": [
       "20"
      ]
     },
     "execution_count": 5,
     "metadata": {},
     "output_type": "execute_result"
    }
   ],
   "source": [
    "age + age "
   ]
  },
  {
   "cell_type": "code",
   "execution_count": 6,
   "metadata": {
    "cell_id": "00023-fbdc439e-a509-47fc-b87f-8ddb2e1fe43b",
    "deepnote_cell_type": "code"
   },
   "outputs": [
    {
     "data": {
      "text/plain": [
       "10"
      ]
     },
     "execution_count": 6,
     "metadata": {},
     "output_type": "execute_result"
    }
   ],
   "source": [
    "age"
   ]
  },
  {
   "cell_type": "code",
   "execution_count": 8,
   "metadata": {
    "cell_id": "00025-f03c237b-6c61-4529-a439-edc0c47f25fc",
    "deepnote_cell_type": "code"
   },
   "outputs": [
    {
     "data": {
      "text/plain": [
       "int"
      ]
     },
     "execution_count": 8,
     "metadata": {},
     "output_type": "execute_result"
    }
   ],
   "source": [
    "type(age)"
   ]
  },
  {
   "cell_type": "code",
   "execution_count": 9,
   "metadata": {
    "cell_id": "00026-32c8f758-0e90-454d-bbb8-faf5eb082348",
    "deepnote_cell_type": "code"
   },
   "outputs": [],
   "source": [
    "temperature = 97.5 "
   ]
  },
  {
   "cell_type": "code",
   "execution_count": 10,
   "metadata": {
    "cell_id": "00027-a5cf508c-415e-44f5-899a-937fd3c331b1",
    "deepnote_cell_type": "code"
   },
   "outputs": [
    {
     "data": {
      "text/plain": [
       "float"
      ]
     },
     "execution_count": 10,
     "metadata": {},
     "output_type": "execute_result"
    }
   ],
   "source": [
    "type(temperature)"
   ]
  },
  {
   "cell_type": "code",
   "execution_count": 11,
   "metadata": {
    "cell_id": "00028-65b413b8-0dd7-46d5-ba27-5d8529ad9d10",
    "deepnote_cell_type": "code"
   },
   "outputs": [
    {
     "data": {
      "text/plain": [
       "50"
      ]
     },
     "execution_count": 11,
     "metadata": {},
     "output_type": "execute_result"
    }
   ],
   "source": [
    "price_per_unit = 5\n",
    "\n",
    "n_units = 10\n",
    "\n",
    "total_price = price_per_unit * n_units\n",
    "\n",
    "total_price"
   ]
  },
  {
   "cell_type": "code",
   "execution_count": 12,
   "metadata": {},
   "outputs": [],
   "source": [
    "## EXERCISE\n",
    "# What do you think would be the result of the following operation?\n",
    "age = age + age\n"
   ]
  },
  {
   "cell_type": "code",
   "execution_count": 13,
   "metadata": {},
   "outputs": [
    {
     "data": {
      "text/plain": [
       "20"
      ]
     },
     "execution_count": 13,
     "metadata": {},
     "output_type": "execute_result"
    }
   ],
   "source": [
    "age"
   ]
  },
  {
   "cell_type": "markdown",
   "metadata": {
    "cell_id": "00029-0a62a200-72e3-4d33-880d-a7b561c7aa94",
    "deepnote_cell_type": "markdown"
   },
   "source": [
    "---"
   ]
  },
  {
   "cell_type": "markdown",
   "metadata": {
    "cell_id": "00030-7d43a88a-169f-4a3a-b251-f62804c582b5",
    "deepnote_cell_type": "markdown"
   },
   "source": [
    "## Strings\n",
    "\n",
    "A string is a data type that consists of textual information. It will read all types of data as text, even if you were to use numbers. Strings are defined by quotation marks or apostrophes. But you have to use the same operator to open and close your strings."
   ]
  },
  {
   "cell_type": "code",
   "execution_count": 15,
   "metadata": {
    "cell_id": "00032-5dd6ccae-ccb2-4d3d-af64-c140411d9153",
    "deepnote_cell_type": "code"
   },
   "outputs": [],
   "source": [
    "hello = 'Hello World'\n",
    "hello2 = \"Hello World\""
   ]
  },
  {
   "cell_type": "code",
   "execution_count": 16,
   "metadata": {},
   "outputs": [
    {
     "data": {
      "text/plain": [
       "'Hello World'"
      ]
     },
     "execution_count": 16,
     "metadata": {},
     "output_type": "execute_result"
    }
   ],
   "source": [
    "hello"
   ]
  },
  {
   "cell_type": "code",
   "execution_count": 17,
   "metadata": {},
   "outputs": [
    {
     "data": {
      "text/plain": [
       "'Hello World'"
      ]
     },
     "execution_count": 17,
     "metadata": {},
     "output_type": "execute_result"
    }
   ],
   "source": [
    "hello2"
   ]
  },
  {
   "cell_type": "markdown",
   "metadata": {
    "cell_id": "00031-47ebda47-4d2d-4f6e-af85-1e1caddcb6e1",
    "deepnote_cell_type": "markdown"
   },
   "source": [
    "### Indexing"
   ]
  },
  {
   "cell_type": "markdown",
   "metadata": {},
   "source": [
    "In order to get Python to retrieve a particular letter from a string, you can use a set of brackets with a number inside to indicate which letter you would like to retrieve."
   ]
  },
  {
   "cell_type": "code",
   "execution_count": null,
   "metadata": {},
   "outputs": [],
   "source": [
    "hello[0]"
   ]
  },
  {
   "cell_type": "code",
   "execution_count": null,
   "metadata": {},
   "outputs": [],
   "source": [
    "hello[1]"
   ]
  },
  {
   "cell_type": "code",
   "execution_count": null,
   "metadata": {},
   "outputs": [],
   "source": [
    "hello[2]"
   ]
  },
  {
   "cell_type": "code",
   "execution_count": null,
   "metadata": {},
   "outputs": [],
   "source": [
    "hello[3]"
   ]
  },
  {
   "cell_type": "markdown",
   "metadata": {
    "cell_id": "00033-bdffa2ba-6a7c-46ec-86be-245777c8843d",
    "deepnote_cell_type": "markdown"
   },
   "source": [
    "### Slicing"
   ]
  },
  {
   "cell_type": "markdown",
   "metadata": {},
   "source": [
    "If you would like to retrieve more than one letter at a time, you can use two numbers inside the brackets, a start and an end value like so, <br>\n",
    "**string_name[start : end] <br>**\n",
    "\n",
    "We call this \"string slicing\" in Python. The **start** and **end** are numerals referring to the positions inside the string that you would like to slice."
   ]
  },
  {
   "cell_type": "code",
   "execution_count": 19,
   "metadata": {},
   "outputs": [],
   "source": [
    "potter = \"My favorite movie is 'Harry Potter'\""
   ]
  },
  {
   "cell_type": "code",
   "execution_count": 20,
   "metadata": {
    "cell_id": "00034-eae9a32c-edd5-45d3-aed8-cf1ce08cc011",
    "deepnote_cell_type": "code"
   },
   "outputs": [
    {
     "data": {
      "text/plain": [
       "'My'"
      ]
     },
     "execution_count": 20,
     "metadata": {},
     "output_type": "execute_result"
    }
   ],
   "source": [
    "potter[0:2]"
   ]
  },
  {
   "cell_type": "code",
   "execution_count": 21,
   "metadata": {
    "cell_id": "00035-6149da61-c1c9-49dc-b82e-0fae3293f1af",
    "deepnote_cell_type": "code"
   },
   "outputs": [
    {
     "data": {
      "text/plain": [
       "'favorite'"
      ]
     },
     "execution_count": 21,
     "metadata": {},
     "output_type": "execute_result"
    }
   ],
   "source": [
    "potter[3:11]"
   ]
  },
  {
   "cell_type": "markdown",
   "metadata": {},
   "source": [
    "We can also slice strings by directly applying the slicing operator to the string iteslf rather than to the variabel that contains that string."
   ]
  },
  {
   "cell_type": "code",
   "execution_count": 22,
   "metadata": {
    "cell_id": "00036-474b5ee1-cd53-4f5e-adef-b0d4af57d7aa",
    "deepnote_cell_type": "code"
   },
   "outputs": [
    {
     "data": {
      "text/plain": [
       "'Parangaricutirimicuaro'"
      ]
     },
     "execution_count": 22,
     "metadata": {},
     "output_type": "execute_result"
    }
   ],
   "source": [
    "'Parangaricutirimicuaro'[:]"
   ]
  },
  {
   "cell_type": "code",
   "execution_count": 24,
   "metadata": {},
   "outputs": [],
   "source": [
    "long_word = 'Parangaricutirimicuaro'"
   ]
  },
  {
   "cell_type": "code",
   "execution_count": 25,
   "metadata": {},
   "outputs": [
    {
     "data": {
      "text/plain": [
       "'Parangaricutirimicuaro'"
      ]
     },
     "execution_count": 25,
     "metadata": {},
     "output_type": "execute_result"
    }
   ],
   "source": [
    "long_word[:]"
   ]
  },
  {
   "cell_type": "code",
   "execution_count": 26,
   "metadata": {},
   "outputs": [],
   "source": [
    "name = \"Michael Gibson\""
   ]
  },
  {
   "cell_type": "code",
   "execution_count": 27,
   "metadata": {},
   "outputs": [
    {
     "data": {
      "text/plain": [
       "'Michael'"
      ]
     },
     "execution_count": 27,
     "metadata": {},
     "output_type": "execute_result"
    }
   ],
   "source": [
    "name[:7]\n"
   ]
  },
  {
   "cell_type": "code",
   "execution_count": 28,
   "metadata": {},
   "outputs": [
    {
     "data": {
      "text/plain": [
       "'Gibson'"
      ]
     },
     "execution_count": 28,
     "metadata": {},
     "output_type": "execute_result"
    }
   ],
   "source": [
    "name[8:]\n"
   ]
  },
  {
   "cell_type": "markdown",
   "metadata": {},
   "source": [
    "Slicing in Python can get pretty fancy. You can do quite a bit of complicated work with just the slicing operator if you know its secret methods.\n",
    "\n",
    "For example you can skip any number of letters as you are slicing by specifying a number after the [start : end] operator like this [start : end : skip]. Whatever number you specify in the \"skip\" position will be skipped from your string."
   ]
  },
  {
   "cell_type": "code",
   "execution_count": null,
   "metadata": {},
   "outputs": [],
   "source": [
    "'Parangaricutirimicuaro'[::1]"
   ]
  },
  {
   "cell_type": "code",
   "execution_count": null,
   "metadata": {
    "cell_id": "00037-5a34404c-c044-45a2-98c3-ca3df3b96e5f",
    "deepnote_cell_type": "code"
   },
   "outputs": [],
   "source": [
    "'Parangaricutirimicuaro'[::2]"
   ]
  },
  {
   "cell_type": "code",
   "execution_count": null,
   "metadata": {},
   "outputs": [],
   "source": [
    "'Parangaricutirimicuaro'[::3]"
   ]
  },
  {
   "cell_type": "code",
   "execution_count": null,
   "metadata": {},
   "outputs": [],
   "source": [
    "'Parangaricutirimicuaro'[::4]"
   ]
  },
  {
   "cell_type": "markdown",
   "metadata": {},
   "source": [
    "You can also get your string in reverse order if you use -1 instead of the \"skip\" number. "
   ]
  },
  {
   "cell_type": "code",
   "execution_count": null,
   "metadata": {
    "cell_id": "00038-170c734d-6906-44f4-984c-57f19b394822",
    "deepnote_cell_type": "code"
   },
   "outputs": [],
   "source": [
    "'Parangaricutirimicuaro'[::-1]"
   ]
  },
  {
   "cell_type": "markdown",
   "metadata": {
    "cell_id": "00039-291bf71f-337d-49e2-9194-be4e868dff62",
    "deepnote_cell_type": "markdown"
   },
   "source": [
    "### Single quote vs double quote "
   ]
  },
  {
   "cell_type": "code",
   "execution_count": null,
   "metadata": {
    "cell_id": "00040-5dbd30a9-b1c4-4ba9-961b-96e913505d21",
    "deepnote_cell_type": "code"
   },
   "outputs": [],
   "source": [
    "\"Really\" he said. \"Are you also attending the celebration?\""
   ]
  },
  {
   "cell_type": "code",
   "execution_count": null,
   "metadata": {
    "cell_id": "00041-39ca159f-b18a-4211-9280-6dd0d6ecad7e",
    "deepnote_cell_type": "code"
   },
   "outputs": [],
   "source": [
    "'\"Really\" he said. \"Are you also attending the celebration?\"'"
   ]
  },
  {
   "cell_type": "code",
   "execution_count": null,
   "metadata": {
    "cell_id": "00042-3633a14b-9ddf-4348-8eb1-e92df8232cfc",
    "deepnote_cell_type": "code"
   },
   "outputs": [],
   "source": [
    "\"\\\"Really,\\\" he said. \\\"Are you also attending the celebration?\\\"\""
   ]
  },
  {
   "cell_type": "markdown",
   "metadata": {
    "cell_id": "00043-47aaf75c-43b4-4c28-82b2-78b20f765569",
    "deepnote_cell_type": "markdown"
   },
   "source": [
    "### String Functions and Attributes"
   ]
  },
  {
   "cell_type": "markdown",
   "metadata": {},
   "source": [
    "Strings in Python have a number of very useful functions associated with them that you can use in order to accomplish common tasks."
   ]
  },
  {
   "cell_type": "code",
   "execution_count": 29,
   "metadata": {},
   "outputs": [],
   "source": [
    "new_string = 'This is a new string. As you can see it is just some text.'"
   ]
  },
  {
   "cell_type": "code",
   "execution_count": 30,
   "metadata": {
    "cell_id": "00044-59950c02-4933-4ce1-bdf6-379c28993699",
    "deepnote_cell_type": "code"
   },
   "outputs": [
    {
     "data": {
      "text/plain": [
       "'THIS IS A NEW STRING. AS YOU CAN SEE IT IS JUST SOME TEXT.'"
      ]
     },
     "execution_count": 30,
     "metadata": {},
     "output_type": "execute_result"
    }
   ],
   "source": [
    "new_string.upper()"
   ]
  },
  {
   "cell_type": "markdown",
   "metadata": {},
   "source": [
    "As an execise, think about how you would get new_string to appear only in lowercase letters."
   ]
  },
  {
   "cell_type": "code",
   "execution_count": 31,
   "metadata": {
    "cell_id": "00045-f6a27011-988b-4745-9ff0-59270e2e5e13",
    "deepnote_cell_type": "code"
   },
   "outputs": [
    {
     "data": {
      "text/plain": [
       "'this is a new string. as you can see it is just some text.'"
      ]
     },
     "execution_count": 31,
     "metadata": {},
     "output_type": "execute_result"
    }
   ],
   "source": [
    "# EXERCISE\n",
    "# Get the same letters as in new_string but in all lowercase\n",
    "new_string.lower()"
   ]
  },
  {
   "cell_type": "code",
   "execution_count": 32,
   "metadata": {
    "cell_id": "00046-a99248ca-32d8-40c1-b420-9199306b2e3d",
    "deepnote_cell_type": "code"
   },
   "outputs": [
    {
     "data": {
      "text/plain": [
       "'my name is Michael Gibson'"
      ]
     },
     "execution_count": 32,
     "metadata": {},
     "output_type": "execute_result"
    }
   ],
   "source": [
    "# Concatenation can be accomplished using the plus sign\n",
    "\n",
    "name = \"Michael Gibson\"\n",
    "\n",
    "'my name is ' + name"
   ]
  },
  {
   "cell_type": "code",
   "execution_count": null,
   "metadata": {
    "cell_id": "00047-f998c18b-1995-4b73-b221-d56309158a51",
    "deepnote_cell_type": "code"
   },
   "outputs": [],
   "source": [
    "# Split a string into a list of words using spaces as delimiters\n",
    "\n",
    "'This sentence makes no sense, but I will split it anyway'.split()"
   ]
  },
  {
   "cell_type": "code",
   "execution_count": null,
   "metadata": {},
   "outputs": [],
   "source": [
    "# Split a string using another character as delimiter, in this case the comma ','\n",
    "'This sentence makes no sense, but I will split it anyway'.split(',')"
   ]
  },
  {
   "cell_type": "markdown",
   "metadata": {},
   "source": [
    "In order to get the length of a string you can use a built-in Python function called **len**"
   ]
  },
  {
   "cell_type": "code",
   "execution_count": null,
   "metadata": {},
   "outputs": [],
   "source": [
    "len('a string')"
   ]
  },
  {
   "cell_type": "code",
   "execution_count": null,
   "metadata": {},
   "outputs": [],
   "source": [
    "len('AAA')"
   ]
  },
  {
   "cell_type": "code",
   "execution_count": null,
   "metadata": {},
   "outputs": [],
   "source": [
    "len('This sentence makes no sense, but I will split it anyway')"
   ]
  },
  {
   "cell_type": "code",
   "execution_count": null,
   "metadata": {},
   "outputs": [],
   "source": [
    "len(name)"
   ]
  },
  {
   "cell_type": "markdown",
   "metadata": {
    "cell_id": "00048-dcaecbc0-6dc6-44b6-9f93-4018b23e2881",
    "deepnote_cell_type": "markdown"
   },
   "source": [
    "---"
   ]
  },
  {
   "cell_type": "markdown",
   "metadata": {
    "cell_id": "00049-8778e9ab-8dcb-4296-bbe0-ffdc7910665a",
    "deepnote_cell_type": "markdown"
   },
   "source": [
    "## Lists \n",
    "\n",
    "Ordered sequence of objects\n",
    "\n",
    "* List is a data type that allows you to save multiple objects. \n",
    "* In comparison with strings, lists can contain different data types."
   ]
  },
  {
   "cell_type": "markdown",
   "metadata": {},
   "source": [
    "You can create a Python list using the square bracket syntax below. Any items inside a list need to be placed inside the square brackets and be separated by commas."
   ]
  },
  {
   "cell_type": "code",
   "execution_count": 33,
   "metadata": {
    "cell_id": "00050-681de578-5708-4eba-99cf-6a173f810f62",
    "deepnote_cell_type": "code"
   },
   "outputs": [
    {
     "data": {
      "text/plain": [
       "['this', 'is', 'list', 'number', 1]"
      ]
     },
     "execution_count": 33,
     "metadata": {},
     "output_type": "execute_result"
    }
   ],
   "source": [
    "[\"this\", \"is\", \"list\", \"number\", 1]"
   ]
  },
  {
   "cell_type": "markdown",
   "metadata": {},
   "source": [
    "As always, it is easy to save a list inside a variable by using the equal sign assignment operator."
   ]
  },
  {
   "cell_type": "code",
   "execution_count": 2,
   "metadata": {
    "cell_id": "00051-03832873-10e8-43bc-a21d-07ea2ac261da",
    "deepnote_cell_type": "code"
   },
   "outputs": [],
   "source": [
    "# list variable assignment \n",
    "my_list = [1, 2, 3]"
   ]
  },
  {
   "cell_type": "markdown",
   "metadata": {},
   "source": [
    "As with all Python objects that contain more than one element inside them, you can find out the \"length\" or count of items inside your list by calling the built-in **len** function."
   ]
  },
  {
   "cell_type": "code",
   "execution_count": 35,
   "metadata": {
    "cell_id": "00052-b8ab91e5-6b08-4795-8069-55ab4ad8a6b7",
    "deepnote_cell_type": "code"
   },
   "outputs": [
    {
     "data": {
      "text/plain": [
       "3"
      ]
     },
     "execution_count": 35,
     "metadata": {},
     "output_type": "execute_result"
    }
   ],
   "source": [
    "# len \n",
    "len(my_list)"
   ]
  },
  {
   "cell_type": "markdown",
   "metadata": {},
   "source": [
    "### Indexing and slicing to retrieve items from a list\n",
    "\n",
    "In order to retreive an item placed inside a list you can use the same square bracket indexing syntax we saw with strings."
   ]
  },
  {
   "cell_type": "code",
   "execution_count": 3,
   "metadata": {
    "cell_id": "00053-00275e5c-a6a9-45bf-80e5-7bf40496f227",
    "deepnote_cell_type": "code"
   },
   "outputs": [
    {
     "data": {
      "text/plain": [
       "1"
      ]
     },
     "execution_count": 3,
     "metadata": {},
     "output_type": "execute_result"
    }
   ],
   "source": [
    "# indexing \n",
    "my_list[0]"
   ]
  },
  {
   "cell_type": "code",
   "execution_count": 13,
   "metadata": {
    "cell_id": "00054-740689ab-7a45-42f3-8e1f-bf7f586782b4",
    "deepnote_cell_type": "code"
   },
   "outputs": [],
   "source": [
    "another_list = [\"one\", 2, \"three\", 4, \"five\"]"
   ]
  },
  {
   "cell_type": "code",
   "execution_count": 38,
   "metadata": {
    "cell_id": "00055-834f0f36-891a-4730-ae7b-3defad3b79cd",
    "deepnote_cell_type": "code"
   },
   "outputs": [
    {
     "data": {
      "text/plain": [
       "[2, 'three']"
      ]
     },
     "execution_count": 38,
     "metadata": {},
     "output_type": "execute_result"
    }
   ],
   "source": [
    "# slicing \n",
    "another_list[1:3]"
   ]
  },
  {
   "cell_type": "markdown",
   "metadata": {
    "tags": []
   },
   "source": [
    "### List operations"
   ]
  },
  {
   "cell_type": "code",
   "execution_count": 14,
   "metadata": {
    "cell_id": "00056-e57a7c89-1c53-4451-a7dd-151e56ce3df8",
    "deepnote_cell_type": "code"
   },
   "outputs": [
    {
     "data": {
      "text/plain": [
       "[1, 2, 3, 'one', 2, 'three', 4, 'five']"
      ]
     },
     "execution_count": 14,
     "metadata": {},
     "output_type": "execute_result"
    }
   ],
   "source": [
    "# concatenate \n",
    "my_list + another_list"
   ]
  },
  {
   "cell_type": "code",
   "execution_count": 16,
   "metadata": {
    "cell_id": "00057-12683ff4-50ea-4e2f-bacf-9302c6bca30b",
    "deepnote_cell_type": "code"
   },
   "outputs": [],
   "source": [
    "# assign and concatenate\n",
    "my_new_list = my_list + another_list"
   ]
  },
  {
   "cell_type": "code",
   "execution_count": 17,
   "metadata": {
    "cell_id": "00058-fcec6315-f745-4bde-b6b0-e0e540434953",
    "deepnote_cell_type": "code"
   },
   "outputs": [],
   "source": [
    "# reassign values\n",
    "another_list[0] = 'ONE ALL CAPS'"
   ]
  },
  {
   "cell_type": "code",
   "execution_count": 18,
   "metadata": {
    "cell_id": "00059-9e623379-5f47-4d41-b94e-b74ed54521c0",
    "deepnote_cell_type": "code"
   },
   "outputs": [
    {
     "data": {
      "text/plain": [
       "['ONE ALL CAPS', 2, 'three', 4, 'five']"
      ]
     },
     "execution_count": 18,
     "metadata": {},
     "output_type": "execute_result"
    }
   ],
   "source": [
    "another_list"
   ]
  },
  {
   "cell_type": "code",
   "execution_count": 19,
   "metadata": {
    "cell_id": "00060-e86c415a-fee7-42e2-a41a-90e638535dc1",
    "deepnote_cell_type": "code"
   },
   "outputs": [],
   "source": [
    "# .append()\n",
    "my_list.append(10)"
   ]
  },
  {
   "cell_type": "code",
   "execution_count": 20,
   "metadata": {
    "cell_id": "00061-a28942f2-08d2-4322-bf8f-bc7b4857059c",
    "deepnote_cell_type": "code"
   },
   "outputs": [
    {
     "data": {
      "text/plain": [
       "[1, 2, 3, 10]"
      ]
     },
     "execution_count": 20,
     "metadata": {},
     "output_type": "execute_result"
    }
   ],
   "source": [
    "my_list"
   ]
  },
  {
   "cell_type": "code",
   "execution_count": 21,
   "metadata": {
    "cell_id": "00062-abeb9c05-bf01-4d0a-be97-1827e54c0fd2",
    "deepnote_cell_type": "code"
   },
   "outputs": [
    {
     "data": {
      "text/plain": [
       "10"
      ]
     },
     "execution_count": 21,
     "metadata": {},
     "output_type": "execute_result"
    }
   ],
   "source": [
    "# .pop()\n",
    "my_list.pop()"
   ]
  },
  {
   "cell_type": "code",
   "execution_count": 22,
   "metadata": {
    "cell_id": "00063-9c6a3800-678b-4a12-82cc-cec90dfc688a",
    "deepnote_cell_type": "code"
   },
   "outputs": [
    {
     "data": {
      "text/plain": [
       "[1, 2, 3]"
      ]
     },
     "execution_count": 22,
     "metadata": {},
     "output_type": "execute_result"
    }
   ],
   "source": [
    "my_list"
   ]
  },
  {
   "cell_type": "code",
   "execution_count": 23,
   "metadata": {
    "cell_id": "00064-a8514c43-f439-4fa7-86ea-f1298b13daea",
    "deepnote_cell_type": "code"
   },
   "outputs": [
    {
     "data": {
      "text/plain": [
       "2"
      ]
     },
     "execution_count": 23,
     "metadata": {},
     "output_type": "execute_result"
    }
   ],
   "source": [
    "# .pop() specific index \n",
    "my_list.pop(1)"
   ]
  },
  {
   "cell_type": "code",
   "execution_count": 24,
   "metadata": {
    "cell_id": "00065-33e85aea-1b14-4b0a-b14b-3fa6a065c39a",
    "deepnote_cell_type": "code"
   },
   "outputs": [
    {
     "data": {
      "text/plain": [
       "[1, 3]"
      ]
     },
     "execution_count": 24,
     "metadata": {},
     "output_type": "execute_result"
    }
   ],
   "source": [
    "my_list"
   ]
  },
  {
   "cell_type": "code",
   "execution_count": 28,
   "metadata": {
    "cell_id": "00066-e4dc3118-e665-450d-a065-c2064336bcc8",
    "deepnote_cell_type": "code"
   },
   "outputs": [],
   "source": [
    "# sort()\n",
    "\n",
    "bag_of_letters = ['a','m','b','x', 'w', 'p']\n",
    "bag_of_letters.sort()"
   ]
  },
  {
   "cell_type": "code",
   "execution_count": 29,
   "metadata": {},
   "outputs": [
    {
     "data": {
      "text/plain": [
       "['a', 'b', 'm', 'p', 'w', 'x']"
      ]
     },
     "execution_count": 29,
     "metadata": {},
     "output_type": "execute_result"
    }
   ],
   "source": [
    "bag_of_letters"
   ]
  },
  {
   "cell_type": "code",
   "execution_count": 37,
   "metadata": {
    "cell_id": "00067-d6052d60-f532-483e-a16e-af7016b5321c",
    "deepnote_cell_type": "code"
   },
   "outputs": [],
   "source": [
    "random_digit = [1,4,19,50,3,6,8,100,3]"
   ]
  },
  {
   "cell_type": "code",
   "execution_count": 31,
   "metadata": {
    "cell_id": "00068-2be18ee8-a3a7-455f-ae7c-3b6d2a938321",
    "deepnote_cell_type": "code"
   },
   "outputs": [],
   "source": [
    "# ! careful with modification in place!\n",
    "\n",
    "random_digit_sorted = random_digit.sort()"
   ]
  },
  {
   "cell_type": "code",
   "execution_count": 33,
   "metadata": {
    "cell_id": "00069-d9d03bca-0c31-4138-9445-1eb6b1a16f25",
    "deepnote_cell_type": "code"
   },
   "outputs": [],
   "source": [
    "random_digit_sorted"
   ]
  },
  {
   "cell_type": "code",
   "execution_count": 34,
   "metadata": {
    "cell_id": "00070-82a080d1-8696-41d9-af0d-93f0703f361d",
    "deepnote_cell_type": "code"
   },
   "outputs": [
    {
     "data": {
      "text/plain": [
       "NoneType"
      ]
     },
     "execution_count": 34,
     "metadata": {},
     "output_type": "execute_result"
    }
   ],
   "source": [
    "# nonetype \n",
    "type(random_digit_sorted)"
   ]
  },
  {
   "cell_type": "code",
   "execution_count": null,
   "metadata": {
    "cell_id": "00071-6628dce3-777e-4e07-b9a8-f023a89b7921",
    "deepnote_cell_type": "code"
   },
   "outputs": [],
   "source": [
    "random_digit.sort()\n",
    "random_digit_sorted = random_digit"
   ]
  },
  {
   "cell_type": "code",
   "execution_count": null,
   "metadata": {
    "cell_id": "00072-22547e4b-11db-4dff-b4a5-5c3e0137dc2b",
    "deepnote_cell_type": "code"
   },
   "outputs": [],
   "source": [
    "random_digit_sorted"
   ]
  },
  {
   "cell_type": "code",
   "execution_count": 35,
   "metadata": {
    "cell_id": "00073-261d2f58-6566-4c37-acbd-b400afef04bc",
    "deepnote_cell_type": "code"
   },
   "outputs": [],
   "source": [
    "# reverse \n",
    "\n",
    "random_digit.reverse()"
   ]
  },
  {
   "cell_type": "code",
   "execution_count": null,
   "metadata": {
    "cell_id": "00074-6579d434-d125-49cd-bfc2-169e495dbf01",
    "deepnote_cell_type": "code"
   },
   "outputs": [],
   "source": [
    "random_digit"
   ]
  },
  {
   "cell_type": "code",
   "execution_count": 36,
   "metadata": {
    "cell_id": "00075-0676c1d6-d0bc-4447-82a4-9f53ee53b9ee",
    "deepnote_cell_type": "code"
   },
   "outputs": [
    {
     "data": {
      "text/plain": [
       "[5, 7, 3, 18, [1, 2, 3, 4, [1, 2, 3, 4]]]"
      ]
     },
     "execution_count": 36,
     "metadata": {},
     "output_type": "execute_result"
    }
   ],
   "source": [
    "# multi-dimensional lists\n",
    "# lists inside other lists\n",
    "\n",
    "some_list = [5,7,3,18, [1,2,3,4,[1,2,3,4]]]\n",
    "some_list"
   ]
  },
  {
   "cell_type": "code",
   "execution_count": 41,
   "metadata": {
    "cell_id": "00076-24ab0401-e676-4862-a33f-5aee24af905c",
    "deepnote_cell_type": "code"
   },
   "outputs": [
    {
     "data": {
      "text/plain": [
       "[1, 2, 3, 4]"
      ]
     },
     "execution_count": 41,
     "metadata": {},
     "output_type": "execute_result"
    }
   ],
   "source": [
    "some_list[4][4][:]"
   ]
  },
  {
   "cell_type": "markdown",
   "metadata": {
    "cell_id": "00077-5e35ad6d-de2c-4b57-b1d1-e959352aeb1d",
    "deepnote_cell_type": "markdown"
   },
   "source": [
    "---\n",
    "\n",
    "## Tuples\n",
    "\n",
    "Tuples look and behave similarly to lists, but they cannot be modified. It can be used with geospatial data or other data that shouldn't be modified under any circumstances."
   ]
  },
  {
   "cell_type": "code",
   "execution_count": 42,
   "metadata": {
    "cell_id": "00078-49a873a4-5b6d-4c05-b22b-24199a3f18cc",
    "deepnote_cell_type": "code"
   },
   "outputs": [
    {
     "data": {
      "text/plain": [
       "(1, 2, 4)"
      ]
     },
     "execution_count": 42,
     "metadata": {},
     "output_type": "execute_result"
    }
   ],
   "source": [
    "(1,2,4)"
   ]
  },
  {
   "cell_type": "code",
   "execution_count": 43,
   "metadata": {
    "cell_id": "00079-c2f38dd7-85d5-4a1f-acac-7e952f031eeb",
    "deepnote_cell_type": "code"
   },
   "outputs": [
    {
     "data": {
      "text/plain": [
       "(1, 2, 3)"
      ]
     },
     "execution_count": 43,
     "metadata": {},
     "output_type": "execute_result"
    }
   ],
   "source": [
    "lst1 = [1,2,3]\n",
    "tuple(lst1)"
   ]
  },
  {
   "cell_type": "code",
   "execution_count": 44,
   "metadata": {
    "cell_id": "00080-9457c266-76c5-4ec0-ba2d-1ef09ff8a6c4",
    "deepnote_cell_type": "code"
   },
   "outputs": [],
   "source": [
    "tup = (1,2,4)\n"
   ]
  },
  {
   "cell_type": "code",
   "execution_count": 45,
   "metadata": {
    "cell_id": "00081-703ed11f-103d-4794-8473-930a4d0d2e38",
    "deepnote_cell_type": "code"
   },
   "outputs": [
    {
     "data": {
      "text/plain": [
       "2"
      ]
     },
     "execution_count": 45,
     "metadata": {},
     "output_type": "execute_result"
    }
   ],
   "source": [
    "tup[1]"
   ]
  },
  {
   "cell_type": "code",
   "execution_count": 46,
   "metadata": {
    "cell_id": "00082-d67eb681-37a3-47f3-b89e-637682f9dadd",
    "deepnote_cell_type": "code"
   },
   "outputs": [
    {
     "ename": "TypeError",
     "evalue": "'tuple' object does not support item assignment",
     "output_type": "error",
     "traceback": [
      "\u001b[0;31m---------------------------------------------------------------------------\u001b[0m",
      "\u001b[0;31mTypeError\u001b[0m                                 Traceback (most recent call last)",
      "Input \u001b[0;32mIn [46]\u001b[0m, in \u001b[0;36m<cell line: 1>\u001b[0;34m()\u001b[0m\n\u001b[0;32m----> 1\u001b[0m tup[\u001b[38;5;241m1\u001b[39m] \u001b[38;5;241m=\u001b[39m \u001b[38;5;241m5\u001b[39m\n",
      "\u001b[0;31mTypeError\u001b[0m: 'tuple' object does not support item assignment"
     ]
    }
   ],
   "source": [
    "tup[1] = 5"
   ]
  },
  {
   "cell_type": "markdown",
   "metadata": {
    "cell_id": "00083-30a479fb-f1d9-4134-a7bf-375499ea0fa0",
    "deepnote_cell_type": "markdown"
   },
   "source": [
    "--- \n",
    "\n",
    "## Sets\n",
    "\n",
    "\n",
    "* Sets are used to store multiple items in a single variable (like lists , and tuples)\n",
    "* It's a collection which is unordered and unindexed and does not allow for duplicates\n",
    "* Syntax: Used curly brackets like dictionaries, but does not come in key-value pairs {}\n",
    "* can cast lists into sets to get unique items of that list \n"
   ]
  },
  {
   "cell_type": "code",
   "execution_count": 47,
   "metadata": {
    "cell_id": "00084-493204ba-ff38-405a-9fd7-cff508d720a3",
    "deepnote_cell_type": "code"
   },
   "outputs": [
    {
     "data": {
      "text/plain": [
       "{1, 2, 4}"
      ]
     },
     "execution_count": 47,
     "metadata": {},
     "output_type": "execute_result"
    }
   ],
   "source": [
    "# Define a set \n",
    "{1, 2, 4, 4}"
   ]
  },
  {
   "cell_type": "code",
   "execution_count": 48,
   "metadata": {
    "cell_id": "00086-fce1a355-82b7-435d-878a-a8f48f4f38dd",
    "deepnote_cell_type": "code"
   },
   "outputs": [
    {
     "data": {
      "text/plain": [
       "{1, 3, 5, 7, 11, 17, 235}"
      ]
     },
     "execution_count": 48,
     "metadata": {},
     "output_type": "execute_result"
    }
   ],
   "source": [
    "# Transform a list into a Python set \n",
    "num_lst = [1, 3, 3, 3, 5, 7, 11, 5, 17, 5, 235, 17, 1, 7]\n",
    "set(num_lst)"
   ]
  },
  {
   "cell_type": "markdown",
   "metadata": {
    "cell_id": "00101-64ff1808-f95e-4f1e-9f16-5efb8c6e859c",
    "deepnote_cell_type": "markdown"
   },
   "source": [
    "--- \n",
    "\n",
    "## Booleans\n",
    "\n",
    "Booleans can only take True or False values. They represent the \"truth\" values in a logical expression, and can help us answer questions that require a binary responses (yes or no) whenever a given condition is or is not met.\n",
    "\"boolean values\" have a bool data type."
   ]
  },
  {
   "cell_type": "code",
   "execution_count": null,
   "metadata": {
    "cell_id": "00102-99af398a-e097-4219-ab57-9a24d816398f",
    "deepnote_cell_type": "code"
   },
   "outputs": [],
   "source": [
    "True"
   ]
  },
  {
   "cell_type": "code",
   "execution_count": null,
   "metadata": {
    "cell_id": "00103-14dbcf8e-0735-4ecc-8898-9aa60a3398d9",
    "deepnote_cell_type": "code"
   },
   "outputs": [],
   "source": [
    "true"
   ]
  },
  {
   "cell_type": "code",
   "execution_count": null,
   "metadata": {
    "cell_id": "00104-37728e16-88c3-4591-b122-3d5a0e751fc6",
    "deepnote_cell_type": "code"
   },
   "outputs": [],
   "source": [
    "type(True)"
   ]
  },
  {
   "cell_type": "code",
   "execution_count": null,
   "metadata": {
    "cell_id": "00105-6501629a-5532-4ceb-8d9c-18f2acdfaf1c",
    "deepnote_cell_type": "code"
   },
   "outputs": [],
   "source": [
    "1 < 3"
   ]
  },
  {
   "cell_type": "markdown",
   "metadata": {
    "cell_id": "00106-c95c4246-f515-468c-83a3-9d4446a3f82a",
    "deepnote_cell_type": "markdown"
   },
   "source": [
    "--- \n",
    "\n",
    "## Comparison Operators \n",
    "\n",
    "Here is a list with more **operators**!\n",
    "\n",
    "|Operator| Meaning|\n",
    "|--------|---------|\n",
    "|< | less than |\n",
    "|<= | lass than or equal to|\n",
    "|> | greater than |\n",
    "|>= | greater than or equal to|\n",
    "|!= | not equal to|\n",
    "|== | equal to|"
   ]
  },
  {
   "cell_type": "code",
   "execution_count": null,
   "metadata": {
    "cell_id": "00107-2f720fa7-4d78-400f-8c53-039b98dc322a",
    "deepnote_cell_type": "code"
   },
   "outputs": [],
   "source": [
    "1 > 2"
   ]
  },
  {
   "cell_type": "code",
   "execution_count": null,
   "metadata": {
    "cell_id": "00108-5c37709b-bf22-440b-ab6b-0a77cb0adfd2",
    "deepnote_cell_type": "code"
   },
   "outputs": [],
   "source": [
    "15 <= 17"
   ]
  },
  {
   "cell_type": "code",
   "execution_count": null,
   "metadata": {},
   "outputs": [],
   "source": [
    "15 != 15"
   ]
  },
  {
   "cell_type": "code",
   "execution_count": null,
   "metadata": {},
   "outputs": [],
   "source": [
    "15 == 15"
   ]
  },
  {
   "cell_type": "code",
   "execution_count": null,
   "metadata": {},
   "outputs": [],
   "source": [
    "15 == 15.0"
   ]
  },
  {
   "cell_type": "code",
   "execution_count": null,
   "metadata": {},
   "outputs": [],
   "source": [
    "1.24 > 1.239999999999"
   ]
  },
  {
   "cell_type": "markdown",
   "metadata": {
    "cell_id": "00111-7b1b7c96-f75a-4c80-941c-83d671a8d197",
    "deepnote_cell_type": "markdown"
   },
   "source": [
    "--- \n",
    "\n",
    "## if, elif, and else Statements \n",
    "\n",
    "\n",
    "A conditional statement has the following form:\n",
    "\n",
    "`if <condition>:\n",
    "    <do_something> \n",
    "elif <condition>:\n",
    "    <do_something>\n",
    "else:\n",
    "     <do_something>`\n",
    "        \n",
    "                 \n",
    "The **condition** called **expressions** and **do_something** are called **suite**. (Don' worry about terminology for now.)"
   ]
  },
  {
   "cell_type": "markdown",
   "metadata": {
    "cell_id": "00112-da8c371d-9012-4f08-9261-2d5479dc273d",
    "deepnote_cell_type": "markdown"
   },
   "source": [
    "**How do conditional statements work?**\n",
    "* First, it evaluated the header expression(which is the `if` statement). If the statement is True, then it executes the first suite otherwise, it checks the condition of the `elif`, and so on. \n",
    "* It will only execute the suite (do_something) of the `else` clause, if the conditions of the `if` and `elif` are false (not met). \n",
    "\n",
    "\n",
    "**Some notes about conditional statements:**\n",
    "* You can have as many `elif` expressions as you want, but you can only have one `if` and one `else` statement. \n",
    "* `else` always comes at the end.\n",
    "* You do not always need and `else`.\n",
    "* When you execute a conditional statement, you must ALWAYS consider the order of you statements."
   ]
  },
  {
   "cell_type": "code",
   "execution_count": null,
   "metadata": {
    "cell_id": "00113-fb98ad67-8b93-47c6-a231-eba7e041c00b",
    "deepnote_cell_type": "code"
   },
   "outputs": [],
   "source": [
    "if True: \n",
    "    print(\"Hello Karla\")"
   ]
  },
  {
   "cell_type": "code",
   "execution_count": null,
   "metadata": {
    "cell_id": "00114-c6e0942c-b8b1-419c-a2fa-bce6294f51a5",
    "deepnote_cell_type": "code"
   },
   "outputs": [],
   "source": [
    "name = \"Karla\"\n",
    "\n",
    "if name == \"Palos\":\n",
    "    print(\"name is Palos\")\n"
   ]
  },
  {
   "cell_type": "code",
   "execution_count": null,
   "metadata": {
    "cell_id": "00115-7a8e989d-bd42-4a66-8b70-0fb9463009b6",
    "deepnote_cell_type": "code"
   },
   "outputs": [],
   "source": [
    "name = \"Karla\"\n",
    "\n",
    "if name == \"Palos\":\n",
    "    print(\"name is Palos\")\n",
    "else\n",
    "    print('That is not my name')"
   ]
  },
  {
   "cell_type": "code",
   "execution_count": null,
   "metadata": {
    "cell_id": "00116-d554590f-8e40-40f0-99f3-af732df5cc71",
    "deepnote_cell_type": "code"
   },
   "outputs": [],
   "source": [
    "# EXAMPLE 1 \n",
    "\n",
    "if len(\"Karla\") == 5:\n",
    "    print(\"Hello, 5!\")\n",
    "else:\n",
    "    print(\"Hello,6!\")"
   ]
  },
  {
   "cell_type": "markdown",
   "metadata": {},
   "source": [
    "--- \n",
    "\n",
    "## Logical Operators\n",
    "\n",
    "These are ordered by ascending priority. \n",
    " \n",
    "|OPERATOR| DESCRIPTION | EXAMPLE | NOTES |\n",
    "|--------|-----------|--------------------------------| ------|\n",
    "| X or Y | Returns True if one the statements is true | a < 5 or b < 1 | Y executes ONLY if X is false. If X, the first value, is true, then X is returned without checking the remaining values.|\n",
    "| X and Y | Returns True if both of the statements are true | a < 5 and b < 10 | Y executed ONLY if X is true. If X is false, it returns X and it does not check the remaining values.|\n",
    "| not X | Negates the results. Returns False if the result is true|not True | |\n"
   ]
  },
  {
   "cell_type": "code",
   "execution_count": null,
   "metadata": {
    "cell_id": "00117-ad19dd70-e9fe-461f-ab57-dfebfda2085a",
    "deepnote_cell_type": "code"
   },
   "outputs": [],
   "source": [
    "# EXAMPLE 2 \n",
    "\n",
    "fizzbuzz = 5\n",
    "if fizzbuzz % 3 == 0 and fizzbuzz % 5 == 0:\n",
    "    print(\"fizzbuzz\")\n",
    "elif fizzbuzz % 3 == 0:\n",
    "    print(\"fizz\")\n",
    "elif fizzbuzz % 5 == 0:\n",
    "    print(\"buzz\")"
   ]
  },
  {
   "cell_type": "code",
   "execution_count": null,
   "metadata": {
    "cell_id": "00110-d557ddaf-bd22-47a1-9c5b-360ab18df7f7",
    "deepnote_cell_type": "code"
   },
   "outputs": [],
   "source": [
    "# EXERCISE\n",
    "# What would the output be if the fizzbuzz number were 15?\n"
   ]
  },
  {
   "cell_type": "markdown",
   "metadata": {
    "cell_id": "00118-3ad5e2dc-11ae-455c-af31-ce83529fd59c",
    "deepnote_cell_type": "markdown"
   },
   "source": [
    "---\n",
    "## Loops\n",
    "\n",
    "### For Loops \n",
    "\n",
    "What are loops useful for? \n",
    "- Sometimes we want to perform some operation on a list, or tuple, but doing it on each element individually can be very tedious!\n",
    "- A loop goes through a collection of data types and **executes** some state statement **for each value** in that collection of data. \n",
    "- Examples of data types are: list, array, characters string, tuple, dictionary, and other collections"
   ]
  },
  {
   "cell_type": "markdown",
   "metadata": {
    "cell_id": "00119-1c8d90b7-f63b-494f-9cb1-4d5cc980111c",
    "deepnote_cell_type": "markdown"
   },
   "source": [
    "Syntax: \n",
    "\n",
    "**for** var **in** iterable:\n",
    "\n",
    "    statement \n",
    "    statement \n",
    "  **else:**\n",
    "  \n",
    "  \n",
    "    statement \n",
    "    \n",
    "* var - it takes items from iterable one by one. \n",
    "* iterable - it's a collection of objects (list tuple)\n",
    "* indentation - loop body MUST be indented \n",
    "* loop body - first two statements \n",
    "* else clause - last statement. \n",
    "\n"
   ]
  },
  {
   "cell_type": "code",
   "execution_count": null,
   "metadata": {},
   "outputs": [],
   "source": [
    "# EXAMPLE \n",
    "# Print each animal in the animals list.\n",
    "\n",
    "animals = [\"dog\", \"cat\", \"bird\", \"fish\"]\n",
    "for animal in animals:\n",
    "    print(animal)"
   ]
  },
  {
   "cell_type": "code",
   "execution_count": null,
   "metadata": {
    "cell_id": "00120-b50ebaf2-01ef-46ca-a516-844c6168e468",
    "deepnote_cell_type": "code"
   },
   "outputs": [],
   "source": [
    "# EXAMPLE\n",
    "# For each number in a list, print the value of the given number plus 1.\n",
    "short_list  = [1, 2, 3, 4]\n",
    "\n",
    "for num in short_list:\n",
    "    print(num + 1)"
   ]
  },
  {
   "cell_type": "code",
   "execution_count": null,
   "metadata": {
    "cell_id": "00123-2015638e-ac1d-422c-adc2-60ef4a8f7b90",
    "deepnote_cell_type": "code"
   },
   "outputs": [],
   "source": [
    "# EXAMPLE \n",
    "# Calculate the areas of circles with different radii found in the tuple called radii.\n",
    "\n",
    "radii = (1, 3, 5, 7, 9)\n",
    "\n",
    "for radius in radii: \n",
    "    area = math.pi * radius**2\n",
    "    print(area)"
   ]
  },
  {
   "cell_type": "code",
   "execution_count": null,
   "metadata": {},
   "outputs": [],
   "source": [
    "# EXERCISE\n",
    "\n",
    "# Square each value in the tuple (1, 2, 3) \n",
    "for ... in ...:\n",
    "    ..."
   ]
  },
  {
   "cell_type": "markdown",
   "metadata": {
    "cell_id": "00125-bcf006d7-3749-4f6e-843a-b966280339e2",
    "deepnote_cell_type": "markdown"
   },
   "source": [
    "---\n",
    "### \"While\" Loops  <a id='subsection10'></a>"
   ]
  },
  {
   "cell_type": "markdown",
   "metadata": {
    "cell_id": "00126-dd80ab54-b12a-4783-a81e-7b53720b1890",
    "deepnote_cell_type": "markdown"
   },
   "source": [
    "Syntax:\n",
    "\n",
    "**while** condition: \n",
    "\n",
    "    statement \n",
    "    statement \n",
    "    \n",
    "**else:**\n",
    "\n",
    "    statement \n",
    "    \n",
    "* condition - any expression that evaluates to true or false (so, our conditionals!)\n",
    "* loop body - first and second statements. It is excludes as long as the condition is true. \n",
    "* else clause - it is executed if the condition becomes false \n",
    "* indentation - loop body must be indented. "
   ]
  },
  {
   "cell_type": "code",
   "execution_count": null,
   "metadata": {
    "cell_id": "00127-149c4495-5a43-42ca-aa0a-7314e66030ce",
    "deepnote_cell_type": "code"
   },
   "outputs": [],
   "source": [
    "# EXAMPLE\n",
    "\n",
    "# Iterate until x becomes 0 \n",
    "x = 10\n",
    "while x:\n",
    "    print(x)\n",
    "    x = x- 1"
   ]
  },
  {
   "cell_type": "code",
   "execution_count": null,
   "metadata": {
    "cell_id": "00128-0ca9ca33-ebbd-4688-88ff-667e57d2fe65",
    "deepnote_cell_type": "code"
   },
   "outputs": [],
   "source": [
    "# EXAMPLE\n",
    "\n",
    "# iterates until the string is empty \n",
    "x = 'I can code!'\n",
    "while x:\n",
    "    print(x)\n",
    "    x = x[1:]"
   ]
  },
  {
   "cell_type": "code",
   "execution_count": null,
   "metadata": {
    "cell_id": "00129-6c05fa78-3558-43e0-8378-3d221ac32287",
    "deepnote_cell_type": "code"
   },
   "outputs": [],
   "source": [
    "# EXAMPLE\n",
    "\n",
    "x = 10\n",
    "while x:\n",
    "    print(x)\n",
    "    x = x - 1\n",
    "else:\n",
    "    print('Done with my countdown!')"
   ]
  },
  {
   "cell_type": "code",
   "execution_count": null,
   "metadata": {
    "cell_id": "00130-3ef3f624-35f5-4204-a48a-6543981396c2",
    "deepnote_cell_type": "code"
   },
   "outputs": [],
   "source": [
    "# EXERCISE\n",
    "\n",
    "# Create a while loop that skips even numbers and prints only the squares of odd numbers smaller than 10.\n",
    "\n",
    "x = 10 \n",
    "while ...:\n",
    "    ...\n",
    "    ...\n",
    "    if x % 2 != 0 :\n",
    "        ..."
   ]
  },
  {
   "cell_type": "markdown",
   "metadata": {
    "cell_id": "00087-2f7ae1d3-0eb6-4562-adac-b3fb9114a02c",
    "deepnote_cell_type": "markdown"
   },
   "source": [
    "---\n",
    "\n",
    "## Dictionaries\n",
    "\n",
    "\n",
    "Dictionaries help us store and manipulate data relations.\n",
    "\n",
    "What are dictionaries?\n",
    "\n",
    "A dictionary is a collection of unordered, mutable and indexable data types. They are structured as key-value pairs.\n",
    "\n",
    "About:\n",
    "\n",
    "* built using curly brackets - {key: value}\n",
    "* you access the value using the key ( like a real dictionary)\n",
    "* keys tend to be strings (or text), since typically they represent the title or name of the thing(s) you want to represent."
   ]
  },
  {
   "cell_type": "markdown",
   "metadata": {
    "cell_id": "00088-49d61603-6fe4-40c5-b273-8a0ffa9d9d09",
    "deepnote_cell_type": "markdown"
   },
   "source": [
    "### Dictionary Methods and Functions \n"
   ]
  },
  {
   "cell_type": "code",
   "execution_count": null,
   "metadata": {
    "cell_id": "00089-9e9423df-e0da-4168-aa28-caf0a2589bef",
    "deepnote_cell_type": "code"
   },
   "outputs": [],
   "source": [
    "my_cofe_shops = {\"number1\" : \"Cruzitas\",\n",
    "                \"number2\" : \"Horchateria Rio Luna\",\n",
    "                \"number3\" : \"Tierra Mia\"}"
   ]
  },
  {
   "cell_type": "code",
   "execution_count": null,
   "metadata": {
    "cell_id": "00090-55f72c39-4bb9-49e1-9cd6-4d5017d3b7b9",
    "deepnote_cell_type": "code"
   },
   "outputs": [],
   "source": [
    "my_pet = {\"name\" : 'Charlie', \n",
    "         \"type\": \"Chihuahua\", \n",
    "         \"gestation_period\": 68}"
   ]
  },
  {
   "cell_type": "code",
   "execution_count": null,
   "metadata": {
    "cell_id": "00091-8eba2ee6-6bd8-460f-b03f-0a0ce1612f1f",
    "deepnote_cell_type": "code"
   },
   "outputs": [],
   "source": [
    "# add\n",
    "my_cofe_shops['new_name'] = 'name'"
   ]
  },
  {
   "cell_type": "code",
   "execution_count": null,
   "metadata": {
    "cell_id": "00092-0ada8e4e-3014-4396-92b5-e532dafa298c",
    "deepnote_cell_type": "code"
   },
   "outputs": [],
   "source": [
    "# changing element \n",
    "my_cofe_shops['number1'] = 'new_1'"
   ]
  },
  {
   "cell_type": "code",
   "execution_count": null,
   "metadata": {
    "cell_id": "00093-733a91b4-f029-4255-8a9e-98b2e8e829c5",
    "deepnote_cell_type": "code"
   },
   "outputs": [],
   "source": [
    "# accesing elements - must be exact "
   ]
  },
  {
   "cell_type": "code",
   "execution_count": null,
   "metadata": {
    "cell_id": "00094-f681ec52-4394-4ca5-bf18-0c86d6f1edfe",
    "deepnote_cell_type": "code"
   },
   "outputs": [],
   "source": [
    "# removing elements \n",
    "# .pop() --> not by index but by key"
   ]
  },
  {
   "cell_type": "code",
   "execution_count": null,
   "metadata": {
    "cell_id": "00095-e0623d52-31bb-4871-8aff-79abb97a09aa",
    "deepnote_cell_type": "code"
   },
   "outputs": [],
   "source": [
    "# .values()"
   ]
  },
  {
   "cell_type": "code",
   "execution_count": null,
   "metadata": {
    "cell_id": "00096-987504c2-36f4-4450-9079-2b88b429a2e8",
    "deepnote_cell_type": "code"
   },
   "outputs": [],
   "source": [
    "# . keys()"
   ]
  },
  {
   "cell_type": "code",
   "execution_count": null,
   "metadata": {
    "cell_id": "00097-dec8472b-d95e-47ae-9cff-07cc4718a129",
    "deepnote_cell_type": "code"
   },
   "outputs": [],
   "source": [
    "# .items()"
   ]
  },
  {
   "cell_type": "markdown",
   "metadata": {
    "cell_id": "00132-ff664174-c00b-479d-b22c-e6486f2093da",
    "deepnote_cell_type": "markdown"
   },
   "source": [
    "---\n",
    "# Functions<a id='section4'></a>"
   ]
  },
  {
   "cell_type": "markdown",
   "metadata": {
    "cell_id": "00133-bb1a57d8-85ca-4f13-8063-f56dec2d2ef5",
    "deepnote_cell_type": "markdown"
   },
   "source": [
    "### Built-in Functions"
   ]
  },
  {
   "cell_type": "markdown",
   "metadata": {
    "cell_id": "00134-9c338a04-e6a9-4213-b3fa-41bb497c5abb",
    "deepnote_cell_type": "markdown"
   },
   "source": [
    "Python is a relatively compact language. Meaning, it does not have too many built-in (aka available by default) functions and methods. We will go over a few useful functions and methods that will be good for you to know. \n"
   ]
  },
  {
   "cell_type": "markdown",
   "metadata": {
    "cell_id": "00135-3decd51c-ee08-470e-b767-90e573b90f98",
    "deepnote_cell_type": "markdown"
   },
   "source": [
    "If something is a built-in function, it will appear in green inside most Python code editors. "
   ]
  },
  {
   "cell_type": "code",
   "execution_count": null,
   "metadata": {
    "cell_id": "00136-f22c6aab-f5da-4038-b2dc-bfbb8ec6c493",
    "deepnote_cell_type": "code"
   },
   "outputs": [],
   "source": [
    "# EXAMPLE \n",
    "\n",
    "max(2, 5, 9, 7)"
   ]
  },
  {
   "cell_type": "code",
   "execution_count": null,
   "metadata": {
    "cell_id": "00137-0d9fc768-429f-4e53-946d-9386dd997daa",
    "deepnote_cell_type": "code"
   },
   "outputs": [],
   "source": [
    "# EXAMPLE \n",
    "\n",
    "min(3, 7)"
   ]
  },
  {
   "cell_type": "markdown",
   "metadata": {
    "cell_id": "00138-60e92b61-ea3b-4b32-99fa-a88b63a08f99",
    "deepnote_cell_type": "markdown"
   },
   "source": [
    "How will this function work with textual information (aka strings)?\n",
    "Pause for a moment to answer this question before you run this cell."
   ]
  },
  {
   "cell_type": "code",
   "execution_count": null,
   "metadata": {
    "cell_id": "00139-1af635c3-cc36-4baf-8776-379ab75d3dcb",
    "deepnote_cell_type": "code"
   },
   "outputs": [],
   "source": [
    "# EXERCISE \n",
    "max(\"dog\", \"Dog\")"
   ]
  },
  {
   "cell_type": "markdown",
   "metadata": {
    "cell_id": "00140-234cca2c-8d3d-41c9-a22d-1c4343d122c7",
    "deepnote_cell_type": "markdown"
   },
   "source": [
    "Another built-in function you will most likely use in your coding a lot, is  **len(   )**. It is used to learn about the length of different objects. "
   ]
  },
  {
   "cell_type": "code",
   "execution_count": null,
   "metadata": {
    "cell_id": "00141-58d804de-8c44-45d5-a761-8f8d0c940578",
    "deepnote_cell_type": "code"
   },
   "outputs": [],
   "source": [
    "# EXAMPLE\n",
    "len(\"dog\")"
   ]
  },
  {
   "cell_type": "code",
   "execution_count": null,
   "metadata": {
    "cell_id": "00142-511efb20-f292-41f3-9498-c9316f13800d",
    "deepnote_cell_type": "code"
   },
   "outputs": [],
   "source": [
    "# EXERCISE\n",
    "\n",
    "# what do you think this cell will output?\n",
    "\n",
    "\n",
    "len(\"dog \")"
   ]
  },
  {
   "cell_type": "markdown",
   "metadata": {
    "cell_id": "00143-6a74fc54-5fef-4bcd-8c23-d6011e6c16c4",
    "deepnote_cell_type": "markdown"
   },
   "source": [
    "When used with lists, it counts only the \"outter\" objects. Meaning, if there are lists or arrays inside of your list, no matter however many objects each of them has, the len(  ) will count the whole list (array, tuple, dictionary) as a single object."
   ]
  },
  {
   "cell_type": "code",
   "execution_count": null,
   "metadata": {
    "cell_id": "00144-cd9cf480-83c9-4031-ab2e-513f84ae0643",
    "deepnote_cell_type": "code"
   },
   "outputs": [],
   "source": [
    "# EXAMPLE\n",
    "\n",
    "\n",
    "len([1,3,4])"
   ]
  },
  {
   "cell_type": "code",
   "execution_count": null,
   "metadata": {
    "cell_id": "00145-b892097c-4f51-4b43-9d0a-92037ef54cee",
    "deepnote_cell_type": "code"
   },
   "outputs": [],
   "source": [
    "random = [[1,2,3,4],[4,5,6]]\n",
    "\n",
    "# Before running this cell, can you guess the output \n",
    "# it will give you?\n",
    "\n",
    "len(random)"
   ]
  },
  {
   "cell_type": "markdown",
   "metadata": {
    "cell_id": "00146-224e1b69-e5ea-497e-bcb5-9a8f7f426188",
    "deepnote_cell_type": "markdown"
   },
   "source": [
    "In the example below, we will use a built-in method. There's no big difference between the two except for the syntax.\n",
    "\n",
    "Functions (not only the built-in ones) are usually used in the form of   \n",
    "\n",
    "**function(argument 1, argument n)**\n",
    "\n",
    "Unlike functions, methods are usually added at the end of the variable.\n",
    "\n",
    "**variable.method()**"
   ]
  },
  {
   "cell_type": "code",
   "execution_count": null,
   "metadata": {
    "cell_id": "00147-9e63dfbf-ff2b-43e7-99ab-f0455fd5fc97",
    "deepnote_cell_type": "code"
   },
   "outputs": [],
   "source": [
    "# EXAMPLE \n",
    "\n",
    "hello = \"Hello World\"\n",
    "\n",
    "print(hello.upper())\n",
    "print(hello)"
   ]
  },
  {
   "cell_type": "markdown",
   "metadata": {
    "cell_id": "00148-6e79e64a-6a1e-4578-b8c3-78686bbbe951",
    "deepnote_cell_type": "markdown"
   },
   "source": [
    "Have you noticed that the variable **hello** didn't change? Can you think why is that? "
   ]
  },
  {
   "cell_type": "code",
   "execution_count": null,
   "metadata": {
    "cell_id": "00149-8581d2a9-5603-4496-b526-88b9fb8c9945",
    "deepnote_cell_type": "code"
   },
   "outputs": [],
   "source": [
    "# EXAMPLE \n",
    "hello = hello.lower()\n",
    "hello"
   ]
  },
  {
   "cell_type": "markdown",
   "metadata": {
    "cell_id": "00150-f25632d7-e7f7-4d72-8706-06aeb45e73a2",
    "deepnote_cell_type": "markdown"
   },
   "source": [
    "In the cell below, create a variable **phrase** which tells us what school you go to. Then change all the letters to upper-cased letters."
   ]
  },
  {
   "cell_type": "code",
   "execution_count": null,
   "metadata": {
    "cell_id": "00151-5c1a6d67-0fa8-4e62-980f-8965779067c2",
    "deepnote_cell_type": "code"
   },
   "outputs": [],
   "source": [
    "# EXERCISE \n",
    "\n",
    "\n",
    "phrase = \"I go to ...\"\n",
    "...\n",
    "\n",
    "print(phrase)"
   ]
  },
  {
   "cell_type": "markdown",
   "metadata": {
    "cell_id": "00152-5a04fc8e-b4e5-42fc-be42-9c4dd4f36904",
    "deepnote_cell_type": "markdown"
   },
   "source": [
    "### Defining Functions"
   ]
  },
  {
   "cell_type": "markdown",
   "metadata": {
    "cell_id": "00153-f172cb5b-1b44-429b-a06c-acd883881c38",
    "deepnote_cell_type": "markdown"
   },
   "source": [
    "A function is a block code that you can reuse to perform a specific action. In the next cell, we will be defining a simple one-line function that takes one argument."
   ]
  },
  {
   "cell_type": "code",
   "execution_count": null,
   "metadata": {
    "cell_id": "00154-ce55e2a2-6527-4d94-8ac5-d36390013bdd",
    "deepnote_cell_type": "code"
   },
   "outputs": [],
   "source": [
    "# EXAMPLE\n",
    "\n",
    "def square(x):\n",
    "    return x**2\n",
    "\n",
    "\n",
    "a = square(3)\n",
    "a"
   ]
  },
  {
   "cell_type": "markdown",
   "metadata": {
    "cell_id": "00155-647e0942-3eec-4801-90e0-e0bc46c144f1",
    "deepnote_cell_type": "markdown"
   },
   "source": [
    "Your functions can perform multiple calculations and use more than one argument. You can also incorporate for-loops, conditionals, and other functions inside of your function.\n",
    "\n",
    "\n",
    "**Note:** we won't be going over the nested functions (functions with other functions inside, but feel free to search for them)."
   ]
  },
  {
   "cell_type": "markdown",
   "metadata": {
    "cell_id": "00156-d11f3b05-acc0-4126-8a1b-c2814658728a",
    "deepnote_cell_type": "markdown"
   },
   "source": [
    "In the cell below, we are going to define a function that will multiply the two numbers you give it only if they are not equal to each other."
   ]
  },
  {
   "cell_type": "code",
   "execution_count": null,
   "metadata": {
    "cell_id": "00157-33ca0b5f-c61c-4474-9a74-8efdb4b69c6e",
    "deepnote_cell_type": "code"
   },
   "outputs": [],
   "source": [
    "# EXAMPLE\n",
    "\n",
    "def mult_not_eq(x, y):\n",
    "    # if the first number is not equal to the second\n",
    "    print(x, y)\n",
    "    if x!=y:\n",
    "    # I will multiply them\n",
    "        return x*y\n",
    "    else:\n",
    "        print(\"Use the square function instead\")\n",
    "        \n",
    "        \n",
    "mult_not_eq(2, 2)"
   ]
  },
  {
   "cell_type": "markdown",
   "metadata": {
    "cell_id": "00158-c3e201bd-1079-453b-86a4-d68102a126d6",
    "deepnote_cell_type": "markdown"
   },
   "source": [
    "Now it's time for you to define a function. Create a function that will add up two numbers, but only if they are not equal. If the numbers are not equal, return \"False\"."
   ]
  },
  {
   "cell_type": "code",
   "execution_count": null,
   "metadata": {
    "cell_id": "00159-4185c266-028c-4d7f-a4f7-192d1efa5944",
    "deepnote_cell_type": "code"
   },
   "outputs": [],
   "source": [
    "# EXERCISE\n",
    "\n",
    "def sum_not_equals(..., ...):\n",
    "    if ...:\n",
    "        return ...\n",
    "    else:\n",
    "        ...\n",
    "    \n",
    "    \n",
    "sum_not_equals(1, 5)"
   ]
  },
  {
   "cell_type": "markdown",
   "metadata": {
    "cell_id": "00160-f09b89af-4562-46d1-8c4b-557a89767e89",
    "deepnote_cell_type": "markdown"
   },
   "source": [
    "---\n",
    "## Importing Libraries <a id='section5'></a>\n",
    "\n"
   ]
  },
  {
   "cell_type": "markdown",
   "metadata": {
    "cell_id": "00161-87ac1b33-b548-45ba-b3b2-6979412e4bf0",
    "deepnote_cell_type": "markdown"
   },
   "source": [
    "Python is not by itself the \"largest\" of programming language. That is, it does not have that many built-in functions and methods. You can theoretically build all the functions you think you would need for a project from scratch but that is unnecessary in most cases. Python programs have access to a large variety of pre-built **\"libraries\"** - collections of pre-coded functions. To use them, you normally need to install them on your computer (not needed for most common libraries if you use Anaconda) and then import them into your Jupyter Notebook. This is similar to how you install an app on your smartphone and the open in whenever you need to use the functionality contained in the app. Of course when programming all of this is done via code. "
   ]
  },
  {
   "cell_type": "code",
   "execution_count": null,
   "metadata": {
    "cell_id": "00162-26f3fa0f-7056-4075-a1b8-94705a8179f6",
    "deepnote_cell_type": "code"
   },
   "outputs": [],
   "source": [
    "# EXAMPLE\n",
    "\n",
    "import numpy as np"
   ]
  },
  {
   "cell_type": "markdown",
   "metadata": {
    "cell_id": "00163-475955ca-304e-4d00-96ee-610362ba6602",
    "deepnote_cell_type": "markdown"
   },
   "source": [
    "Now that we have imported the **numpy** library, we can use it's functions."
   ]
  },
  {
   "cell_type": "code",
   "execution_count": null,
   "metadata": {
    "cell_id": "00164-2047e203-8d85-41db-b66a-7c8ae35cf126",
    "deepnote_cell_type": "code"
   },
   "outputs": [],
   "source": [
    "# EXAMPLE\n",
    "\n",
    "rand_nums = [1,5,8,9,15]\n",
    "\n",
    "np.mean(rand_nums)"
   ]
  },
  {
   "cell_type": "markdown",
   "metadata": {
    "cell_id": "00165-faed9638-977e-4c5c-ac2a-b1b695c26bd6",
    "deepnote_cell_type": "markdown"
   },
   "source": [
    "Another useful library to have is **math**. It has things like cos, sin, e, and pi built into the library so that you can use them in your calculations."
   ]
  },
  {
   "cell_type": "code",
   "execution_count": null,
   "metadata": {
    "cell_id": "00166-9502375d-b7f5-4386-a53e-100bd9bc1046",
    "deepnote_cell_type": "code"
   },
   "outputs": [],
   "source": [
    "# EXAMPLE\n",
    "\n",
    "import math\n",
    "\n",
    "radius = 3\n",
    "area_circle = math.pi * radius**2\n",
    "\n",
    "area_circle"
   ]
  },
  {
   "cell_type": "markdown",
   "metadata": {},
   "source": []
  },
  {
   "cell_type": "markdown",
   "metadata": {},
   "source": [
    "Notebook developed by: Kseniya Usovich, Karla Palos, and Anton Bosneaga\n",
    "\n",
    "Cal NERDS GitHub: https://github.com/Cal-NERDS"
   ]
  },
  {
   "cell_type": "markdown",
   "metadata": {
    "cell_id": "00167-038164a3-cfdc-411b-9356-6ad83dfc37ce",
    "deepnote_cell_type": "markdown"
   },
   "source": [
    "\n"
   ]
  }
 ],
 "metadata": {
  "deepnote": {},
  "deepnote_execution_queue": [],
  "deepnote_notebook_id": "d9fcedce-9d48-4dbf-840e-0907f9782c4f",
  "kernelspec": {
   "display_name": "Python 3 (ipykernel)",
   "language": "python",
   "name": "python3"
  },
  "language_info": {
   "codemirror_mode": {
    "name": "ipython",
    "version": 3
   },
   "file_extension": ".py",
   "mimetype": "text/x-python",
   "name": "python",
   "nbconvert_exporter": "python",
   "pygments_lexer": "ipython3",
   "version": "3.9.12"
  }
 },
 "nbformat": 4,
 "nbformat_minor": 4
}
